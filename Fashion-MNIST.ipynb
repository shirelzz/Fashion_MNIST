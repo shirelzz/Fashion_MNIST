{
 "cells": [
  {
   "cell_type": "markdown",
   "id": "f0a3055e",
   "metadata": {},
   "source": [
    "# Fashion-MNIST Project"
   ]
  },
  {
   "cell_type": "code",
   "execution_count": 32,
   "id": "b02b3816",
   "metadata": {},
   "outputs": [],
   "source": [
    "from __future__ import absolute_import, division, print_function, unicode_literals\n",
    "import tensorflow as tf\n",
    "import numpy as np\n",
    "import matplotlib.pyplot as plt\n",
    "import importlib\n",
    "from sklearn.pipeline import Pipeline\n",
    "from sklearn import metrics\n",
    "from sklearn.ensemble import AdaBoostClassifier, BaggingClassifier\n",
    "from sklearn.naive_bayes import GaussianNB\n",
    "from sklearn.tree import DecisionTreeClassifier\n",
    "from sklearn.calibration import CalibratedClassifierCV\n",
    "import utils\n",
    "from sklearn.linear_model import SGDClassifier, LogisticRegression\n",
    "from sklearn.ensemble import RandomForestClassifier, VotingClassifier\n",
    "from sklearn.neighbors import KNeighborsClassifier\n",
    "from sklearn.model_selection import cross_val_predict, cross_val_score, GridSearchCV\n",
    "from sklearn.metrics import confusion_matrix, precision_score, recall_score, f1_score, accuracy_score\n",
    "from sklearn.cluster import KMeans\n",
    "from scipy.spatial.distance import cdist\n",
    "import numpy as np\n",
    "import matplotlib.pyplot as plt\n",
    "importlib.reload(utils)\n",
    "\n",
    "%matplotlib inline\n"
   ]
  },
  {
   "cell_type": "code",
   "execution_count": null,
   "id": "e2fde8e2",
   "metadata": {},
   "outputs": [
    {
     "data": {
      "text/plain": [
       "array([[[0, 0, 0, ..., 0, 0, 0],\n",
       "        [0, 0, 0, ..., 0, 0, 0],\n",
       "        [0, 0, 0, ..., 0, 0, 0],\n",
       "        ...,\n",
       "        [0, 0, 0, ..., 0, 0, 0],\n",
       "        [0, 0, 0, ..., 0, 0, 0],\n",
       "        [0, 0, 0, ..., 0, 0, 0]],\n",
       "\n",
       "       [[0, 0, 0, ..., 0, 0, 0],\n",
       "        [0, 0, 0, ..., 0, 0, 0],\n",
       "        [0, 0, 0, ..., 0, 0, 0],\n",
       "        ...,\n",
       "        [0, 0, 0, ..., 0, 0, 0],\n",
       "        [0, 0, 0, ..., 0, 0, 0],\n",
       "        [0, 0, 0, ..., 0, 0, 0]],\n",
       "\n",
       "       [[0, 0, 0, ..., 0, 0, 0],\n",
       "        [0, 0, 0, ..., 0, 0, 0],\n",
       "        [0, 0, 0, ..., 0, 0, 0],\n",
       "        ...,\n",
       "        [0, 0, 0, ..., 0, 0, 0],\n",
       "        [0, 0, 0, ..., 0, 0, 0],\n",
       "        [0, 0, 0, ..., 0, 0, 0]],\n",
       "\n",
       "       ...,\n",
       "\n",
       "       [[0, 0, 0, ..., 0, 0, 0],\n",
       "        [0, 0, 0, ..., 0, 0, 0],\n",
       "        [0, 0, 0, ..., 0, 0, 0],\n",
       "        ...,\n",
       "        [0, 0, 0, ..., 0, 0, 0],\n",
       "        [0, 0, 0, ..., 0, 0, 0],\n",
       "        [0, 0, 0, ..., 0, 0, 0]],\n",
       "\n",
       "       [[0, 0, 0, ..., 0, 0, 0],\n",
       "        [0, 0, 0, ..., 0, 0, 0],\n",
       "        [0, 0, 0, ..., 0, 0, 0],\n",
       "        ...,\n",
       "        [0, 0, 0, ..., 0, 0, 0],\n",
       "        [0, 0, 0, ..., 0, 0, 0],\n",
       "        [0, 0, 0, ..., 0, 0, 0]],\n",
       "\n",
       "       [[0, 0, 0, ..., 0, 0, 0],\n",
       "        [0, 0, 0, ..., 0, 0, 0],\n",
       "        [0, 0, 0, ..., 0, 0, 0],\n",
       "        ...,\n",
       "        [0, 0, 0, ..., 0, 0, 0],\n",
       "        [0, 0, 0, ..., 0, 0, 0],\n",
       "        [0, 0, 0, ..., 0, 0, 0]]], dtype=uint8)"
      ]
     },
     "execution_count": 2,
     "metadata": {},
     "output_type": "execute_result"
    }
   ],
   "source": [
    "fashion_mnist = tf.keras.datasets.fashion_mnist\n",
    "\n",
    "(train_images, train_labels), (test_images, test_labels) = fashion_mnist.load_data()\n",
    "train_images\n"
   ]
  },
  {
   "cell_type": "markdown",
   "id": "ea5a7755",
   "metadata": {},
   "source": [
    "## The Labels according to their numbers in the array\n",
    "\n",
    "Label: 0    ---> Class: T-shirt/top\n",
    "\n",
    "Label: 1\t---> Class: Trouser\n",
    "\n",
    "Label: 2\t---> Class: Pullover\n",
    "\n",
    "Label: 3\t---> Class: Dress\n",
    "\n",
    "Label: 4\t---> Class: Coat\n",
    "\n",
    "Label: 5\t---> Class: Sandal\n",
    "\n",
    "Label: 6\t---> Class: Shirt\n",
    "\n",
    "Label: 7\t---> Class: Sneaker\n",
    "\n",
    "Label: 8\t---> Class: Bag\n",
    "\n",
    "Label: 9\t---> Class: Ankle boot\n"
   ]
  },
  {
   "cell_type": "code",
   "execution_count": null,
   "id": "05d33f9d",
   "metadata": {},
   "outputs": [],
   "source": [
    "class_names = ['T-shirt/top', 'Trouser', 'Pullover', 'Dress', 'Coat',\n",
    "               'Sandal', 'Shirt', 'Sneaker', 'Bag', 'Ankle boot']\n"
   ]
  },
  {
   "cell_type": "markdown",
   "id": "d84d9812",
   "metadata": {},
   "source": [
    "Explore the Data"
   ]
  },
  {
   "cell_type": "code",
   "execution_count": null,
   "id": "8dc8b2fe",
   "metadata": {},
   "outputs": [
    {
     "data": {
      "text/plain": [
       "(60000, 28, 28)"
      ]
     },
     "execution_count": 4,
     "metadata": {},
     "output_type": "execute_result"
    }
   ],
   "source": [
    "train_images.shape\n"
   ]
  },
  {
   "cell_type": "code",
   "execution_count": null,
   "id": "ea5a7755",
   "metadata": {},
   "outputs": [
    {
     "data": {
      "text/plain": [
       "60000"
      ]
     },
     "execution_count": 5,
     "metadata": {},
     "output_type": "execute_result"
    }
   ],
   "source": [
    "len(train_labels)\n"
   ]
  },
  {
   "cell_type": "code",
   "execution_count": null,
   "id": "a7b11fc8",
   "metadata": {},
   "outputs": [
    {
     "data": {
      "text/plain": [
       "(10000, 28, 28)"
      ]
     },
     "execution_count": 6,
     "metadata": {},
     "output_type": "execute_result"
    }
   ],
   "source": [
    "test_images.shape\n"
   ]
  },
  {
   "cell_type": "code",
   "execution_count": null,
   "id": "fb24372a",
   "metadata": {},
   "outputs": [
    {
     "data": {
      "text/plain": [
       "10000"
      ]
     },
     "execution_count": 7,
     "metadata": {},
     "output_type": "execute_result"
    }
   ],
   "source": [
    "len(test_labels)\n"
   ]
  },
  {
   "cell_type": "markdown",
   "id": "d84d9812",
   "metadata": {},
   "source": [
    "Preprocess the data"
   ]
  },
  {
   "cell_type": "code",
   "execution_count": null,
   "id": "8a871390",
   "metadata": {},
   "outputs": [],
   "source": [
    "# To transform the images to be in scale from 0-1\n",
    "train_images = train_images / 255.0\n",
    "\n",
    "test_images = test_images / 255.0\n"
   ]
  },
  {
   "cell_type": "code",
   "execution_count": null,
   "id": "4da4dda1",
   "metadata": {},
   "outputs": [
    {
     "data": {
      "image/png": "[encoded data removed]",
      "text/plain": [
       "<Figure size 720x720 with 25 Axes>"
      ]
     },
     "metadata": {},
     "output_type": "display_data"
    }
   ],
   "source": [
    "# Show the first 25 images\n",
    "\n",
    "utils.plot_multi_images(train_images, train_labels, class_names)\n"
   ]
  },
  {
   "cell_type": "markdown",
   "id": "b328d551",
   "metadata": {},
   "source": [
    "Build the model"
   ]
  },
  {
   "cell_type": "code",
   "execution_count": null,
   "id": "ab9d033b",
   "metadata": {},
   "outputs": [
    {
     "name": "stdout",
     "output_type": "stream",
     "text": [
      "(60000, 28, 28)\n",
      "(10000, 784)\n"
     ]
    }
   ],
   "source": [
    "print(train_images.shape)\n",
    "X_train = []\n",
    "X_test = []\n",
    "for i in range(len(train_images)):\n",
    "    temp = train_images[i].reshape(-1, 784)\n",
    "    X_train.append(temp[0])\n",
    "X_train = np.array(X_train)\n",
    "for i in range(len(test_images)):\n",
    "    temp = test_images[i].reshape(-1, 784)\n",
    "    X_test.append(temp[0])\n",
    "X_test = np.array(X_test)\n",
    "print(X_test.shape)\n",
    "\n",
    "y_train = train_labels.copy()\n",
    "y_test = test_labels.copy()\n"
   ]
  },
  {
   "cell_type": "code",
   "execution_count": null,
   "id": "d0d88cbc",
   "metadata": {},
   "outputs": [],
   "source": [
    "X_train_ = X_train\n",
    "X_test_ = X_test\n",
    "y_train_ = y_train\n",
    "y_test_ = y_test"
   ]
  },
  {
   "cell_type": "markdown",
   "id": "5af1a35f",
   "metadata": {},
   "source": [
    "### Best K for Knn algorithm"
   ]
  },
  {
   "cell_type": "code",
   "execution_count": null,
   "id": "b328d551",
   "metadata": {},
   "outputs": [],
   "source": [
    "best_k = 3"
   ]
  },
  {
   "cell_type": "code",
   "execution_count": null,
   "id": "0cddc458",
   "metadata": {},
   "outputs": [
    {
     "name": "stdout",
     "output_type": "stream",
     "text": [
      "1\n",
      "2\n",
      "3\n",
      "4\n",
      "5\n",
      "6\n",
      "7\n",
      "8\n",
      "9\n",
      "10\n",
      "11\n",
      "12\n",
      "13\n",
      "14\n",
      "15\n",
      "16\n",
      "17\n",
      "18\n",
      "19\n",
      "20\n",
      "21\n",
      "22\n",
      "23\n",
      "24\n",
      "25\n",
      "26\n",
      "27\n",
      "28\n",
      "29\n",
      "30\n",
      "31\n",
      "32\n",
      "33\n",
      "34\n",
      "35\n",
      "36\n",
      "37\n",
      "38\n",
      "39\n",
      "40\n",
      "41\n",
      "42\n",
      "43\n",
      "44\n",
      "45\n",
      "46\n",
      "47\n",
      "48\n",
      "49\n",
      "The best accuracy of the knn model is when k = 3 , and the score is: 0.8577\n"
     ]
    },
    {
     "data": {
      "image/png": "[encoded data removed]",
      "text/plain": [
       "<Figure size 864x432 with 1 Axes>"
      ]
     },
     "metadata": {
      "needs_background": "light"
     },
     "output_type": "display_data"
    }
   ],
   "source": [
    "k_range = range(1,50)\n",
    "scores = []\n",
    "for k in k_range:\n",
    "    print(k)\n",
    "    knn_ = KNeighborsClassifier(n_neighbors=k)\n",
    "    knn_.fit(X_train, y_train)\n",
    "    y_pred = knn_.predict(X_test)\n",
    "    scores.append(metrics.accuracy_score(y_test, y_pred))\n",
    "\n",
    "plt.figure(figsize=(12, 6))\n",
    "plt.plot(k_range, scores,color='red', linestyle='dashed', marker='o',\n",
    "         markerfacecolor='blue', markersize=10)\n",
    "plt.xlabel('Value of K for KNN')\n",
    "plt.ylabel('Testing Accuracy')\n",
    "\n",
    "# Finding the maximum k - the number of nearest neighbors:\n",
    "max_score = max(scores)\n",
    "best_k = scores.index(max_score)\n",
    "print(\"The best accuracy of the knn model is when k =\",best_k, \", and the score is:\",max_score) "
   ]
  },
  {
   "cell_type": "code",
   "execution_count": null,
   "id": "0f4148ba",
   "metadata": {},
   "outputs": [
    {
     "data": {
      "text/plain": [
       "3"
      ]
     },
     "execution_count": 14,
     "metadata": {},
     "output_type": "execute_result"
    }
   ],
   "source": [
    "best_k"
   ]
  },
  {
   "cell_type": "markdown",
   "id": "5af1a35f",
   "metadata": {},
   "source": [
    "## Training Our Models"
   ]
  },
  {
   "cell_type": "code",
   "execution_count": null,
   "id": "9322212a",
   "metadata": {},
   "outputs": [],
   "source": [
    "knn = KNeighborsClassifier(n_neighbors=best_k)\n",
    "log_reg = LogisticRegression(max_iter=100000, random_state=42)\n",
    "randomForest = RandomForestClassifier()\n",
    "clf = SGDClassifier(random_state=42)\n",
    "sgd_clf = CalibratedClassifierCV(clf, cv=5, method='sigmoid')\n",
    "gnb = GaussianNB()"
   ]
  },
  {
   "cell_type": "markdown",
   "id": "96f9aca7",
   "metadata": {},
   "source": [
    "### Fit the data"
   ]
  },
  {
   "cell_type": "code",
   "execution_count": null,
   "id": "48ea1a76",
   "metadata": {},
   "outputs": [
    {
     "data": {
      "text/plain": [
       "0.8541"
      ]
     },
     "execution_count": 16,
     "metadata": {},
     "output_type": "execute_result"
    }
   ],
   "source": [
    "knn.fit(X_train, y_train)\n",
    "knn_predict = knn.predict(X_test)\n",
    "knn.score(X_test, y_test)"
   ]
  },
  {
   "cell_type": "code",
   "execution_count": null,
   "id": "48fd3ccd",
   "metadata": {},
   "outputs": [
    {
     "data": {
      "text/plain": [
       "0.8441"
      ]
     },
     "execution_count": 17,
     "metadata": {},
     "output_type": "execute_result"
    }
   ],
   "source": [
    "log_reg.fit(X_train, y_train)\n",
    "log_reg_predict = log_reg.predict(X_test)\n",
    "log_reg.score(X_test, y_test)"
   ]
  },
  {
   "cell_type": "code",
   "execution_count": null,
   "id": "65390659",
   "metadata": {},
   "outputs": [
    {
     "data": {
      "text/plain": [
       "0.8753"
      ]
     },
     "execution_count": 18,
     "metadata": {},
     "output_type": "execute_result"
    }
   ],
   "source": [
    "randomForest.fit(X_train, y_train)\n",
    "randomForest_predict = randomForest.predict(X_test)\n",
    "randomForest.score(X_test, y_test)"
   ]
  },
  {
   "cell_type": "code",
   "execution_count": null,
   "id": "96f9aca7",
   "metadata": {},
   "outputs": [
    {
     "data": {
      "text/plain": [
       "0.8409"
      ]
     },
     "execution_count": 19,
     "metadata": {},
     "output_type": "execute_result"
    }
   ],
   "source": [
    "sgd_clf.fit(X_train, y_train)\n",
    "sgd_clf_predict = sgd_clf.predict(X_test)\n",
    "sgd_clf.score(X_test, y_test)"
   ]
  },
  {
   "cell_type": "code",
   "execution_count": null,
   "id": "a21a54ad",
   "metadata": {},
   "outputs": [
    {
     "data": {
      "text/plain": [
       "0.5856"
      ]
     },
     "execution_count": 20,
     "metadata": {},
     "output_type": "execute_result"
    }
   ],
   "source": [
    "gnb.fit(X_train, y_train)\n",
    "gnb_predict = gnb.predict(X_test)\n",
    "gnb.score(X_test, y_test)"
   ]
  },
  {
   "cell_type": "markdown",
   "id": "9debb208",
   "metadata": {},
   "source": [
    "### Cross validation"
   ]
  },
  {
   "cell_type": "code",
   "execution_count": null,
   "id": "a767cbc3",
   "metadata": {},
   "outputs": [
    {
     "data": {
      "text/plain": [
       "array([0.85608333, 0.84775   , 0.85041667, 0.85591667, 0.85233333])"
      ]
     },
     "execution_count": 21,
     "metadata": {},
     "output_type": "execute_result"
    }
   ],
   "source": [
    "knn_predict = cross_val_predict(knn, X_train, y_train, cv=5)\n",
    "cross_val_score(knn, X_train, y_train, cv=5, scoring=\"accuracy\")"
   ]
  },
  {
   "cell_type": "code",
   "execution_count": null,
   "id": "9ccc71df",
   "metadata": {},
   "outputs": [
    {
     "data": {
      "text/plain": [
       "array([0.85433333, 0.84325   , 0.85666667, 0.85608333, 0.8515    ])"
      ]
     },
     "execution_count": 22,
     "metadata": {},
     "output_type": "execute_result"
    }
   ],
   "source": [
    "log_reg_predict = cross_val_predict(log_reg, X_train, y_train, cv=5)\n",
    "cross_val_score(log_reg, X_train, y_train, cv=5, scoring=\"accuracy\")"
   ]
  },
  {
   "cell_type": "code",
   "execution_count": null,
   "id": "eb99e4c9",
   "metadata": {},
   "outputs": [
    {
     "data": {
      "text/plain": [
       "array([0.8825    , 0.87675   , 0.886     , 0.88491667, 0.88008333])"
      ]
     },
     "execution_count": 23,
     "metadata": {},
     "output_type": "execute_result"
    }
   ],
   "source": [
    "randomForest_predict = cross_val_predict(randomForest, X_train, y_train, cv=5)\n",
    "cross_val_score(randomForest, X_train, y_train, cv=5, scoring=\"accuracy\")"
   ]
  },
  {
   "cell_type": "code",
   "execution_count": null,
   "id": "a07c77da",
   "metadata": {},
   "outputs": [
    {
     "data": {
      "text/plain": [
       "array([0.852     , 0.84825   , 0.85683333, 0.856     , 0.852     ])"
      ]
     },
     "execution_count": 24,
     "metadata": {},
     "output_type": "execute_result"
    }
   ],
   "source": [
    "SGD_predict = cross_val_predict(sgd_clf, X_train, y_train, cv=5)\n",
    "cross_val_score(sgd_clf, X_train, y_train, cv=5, scoring=\"accuracy\")"
   ]
  },
  {
   "cell_type": "code",
   "execution_count": null,
   "id": "1eccf310",
   "metadata": {},
   "outputs": [
    {
     "data": {
      "text/plain": [
       "array([0.60241667, 0.61208333, 0.56825   , 0.58216667, 0.58483333])"
      ]
     },
     "execution_count": 25,
     "metadata": {},
     "output_type": "execute_result"
    }
   ],
   "source": [
    "gnb_predict = cross_val_predict(gnb, X_train, y_train, cv=5)\n",
    "cross_val_score(gnb, X_train, y_train, cv=5, scoring=\"accuracy\")"
   ]
  },
  {
   "cell_type": "markdown",
   "id": "c83a1c9c",
   "metadata": {},
   "source": [
    "## Pipeline for knn:"
   ]
  },
  {
   "cell_type": "code",
   "execution_count": null,
   "id": "e6f4f06a",
   "metadata": {},
   "outputs": [],
   "source": [
    "from sklearn.pipeline import Pipeline\n",
    "from sklearn.preprocessing import Normalizer, StandardScaler, MinMaxScaler, MaxAbsScaler\n",
    "from sklearn.feature_selection import VarianceThreshold"
   ]
  },
  {
   "cell_type": "code",
   "execution_count": null,
   "id": "dd8311c7",
   "metadata": {},
   "outputs": [
    {
     "data": {
      "text/plain": [
       "0.8533"
      ]
     },
     "execution_count": 27,
     "metadata": {},
     "output_type": "execute_result"
    }
   ],
   "source": [
    "pipeline1 = Pipeline([\n",
    "('scaler', StandardScaler()),\n",
    "('selector', VarianceThreshold()),\n",
    "('classifier', KNeighborsClassifier())])\n",
    "    \n",
    "pipeline1.fit(X_train, y_train)\n",
    "pipe1_predict2 = pipeline1.predict(X_test)\n",
    "pipe1_acc = accuracy_score(y_test , pipe1_predict2)\n",
    "pipe1_acc"
   ]
  },
  {
   "cell_type": "code",
   "execution_count": null,
   "id": "9debb208",
   "metadata": {},
   "outputs": [
    {
     "data": {
      "text/plain": [
       "0.8533"
      ]
     },
     "execution_count": 28,
     "metadata": {},
     "output_type": "execute_result"
    }
   ],
   "source": [
    "pipeline1.score(X_test, y_test)"
   ]
  },
  {
   "cell_type": "code",
   "execution_count": null,
   "id": "4be8ea84",
   "metadata": {},
   "outputs": [],
   "source": [
    "# parameters1 = {'scaler': [StandardScaler(), MinMaxScaler(),\n",
    "#     Normalizer(), MaxAbsScaler()],\n",
    "#     'selector__threshold': [0, 0.001, 0.01],\n",
    "#     'classifier__n_neighbors': [1, 3, 5, 7, 10],\n",
    "#     'classifier__p': [1, 2],\n",
    "#     'classifier__leaf_size': [1, 5, 10, 15] }"
   ]
  },
  {
   "cell_type": "code",
   "execution_count": null,
   "id": "9a46c9e9",
   "metadata": {},
   "outputs": [],
   "source": [
    "# knn_grid = GridSearchCV(pipeline1, parameters1, cv=2)"
   ]
  },
  {
   "cell_type": "code",
   "execution_count": null,
   "id": "c2a7084b",
   "metadata": {},
   "outputs": [],
   "source": [
    "# knn_grid.fit(X_train, y_train)"
   ]
  },
  {
   "cell_type": "code",
   "execution_count": null,
   "id": "e17ef11e",
   "metadata": {},
   "outputs": [],
   "source": [
    "# print('Training set score: ' + str(knn_grid.score(X_train, y_train)))\n",
    "# print('Test set score: ' + str(knn_grid.score(X_test, y_test)))"
   ]
  },
  {
   "cell_type": "markdown",
   "id": "6843fcd9",
   "metadata": {},
   "source": [
    "## Pipeline for Random Forest:"
   ]
  },
  {
   "cell_type": "code",
   "execution_count": null,
   "id": "c83a1c9c",
   "metadata": {},
   "outputs": [
    {
     "data": {
      "text/plain": [
       "0.8457"
      ]
     },
     "execution_count": 33,
     "metadata": {},
     "output_type": "execute_result"
    }
   ],
   "source": [
    "pipeline3 = Pipeline([\n",
    "('scaler', StandardScaler()),\n",
    "('selector', VarianceThreshold()),\n",
    "('classifier', RandomForestClassifier(max_depth = 10, n_estimators = 200))])\n",
    "    \n",
    "pipeline3.fit(X_train, y_train)\n",
    "pipe3_predict2 = pipeline3.predict(X_test)\n",
    "pipe3_acc = accuracy_score(y_test , pipe3_predict2)\n",
    "pipe3_acc"
   ]
  },
  {
   "cell_type": "code",
   "execution_count": null,
   "id": "b6b67490",
   "metadata": {},
   "outputs": [],
   "source": [
    "parameters3 = {'scaler': [StandardScaler(), MinMaxScaler(),\n",
    "    Normalizer(), MaxAbsScaler()],\n",
    "    'classifier__max_depth': [2, 4, 6, 8, 10]}\n",
    "# Maybe we need to change the parameters because the pipeline and grid only lower the score."
   ]
  },
  {
   "cell_type": "code",
   "execution_count": null,
   "id": "4d562a45",
   "metadata": {},
   "outputs": [
    {
     "name": "stdout",
     "output_type": "stream",
     "text": [
      "Training set score: 0.8864833333333333\n",
      "Test set score: 0.8449\n"
     ]
    }
   ],
   "source": [
    "rnd_forest_grid = GridSearchCV(pipeline3, parameters3, cv=2).fit(X_train, y_train)\n",
    "\n",
    "print('Training set score: ' + str(rnd_forest_grid.score(X_train, y_train)))\n",
    "print('Test set score: ' + str(rnd_forest_grid.score(X_test, y_test)))"
   ]
  },
  {
   "cell_type": "markdown",
   "id": "41830d9c",
   "metadata": {},
   "source": [
    "## Using ensemble learning methods\n"
   ]
  },
  {
   "cell_type": "markdown",
   "id": "b445dd67",
   "metadata": {},
   "source": [
    "**n_estimators:** The **number** of base estimators or **weak learners** we want to use in our dataset. By default, the n_estimator is 50.\n",
    "\n",
    "**learning_rate:** This parameter is provided to **shrink the contribution of each classifier**. By default, it is provided a value of 1.\n",
    "\n",
    "**base_estimator:** This parameter is used to **signify** the type of base learners we can implement or the type of weak learner we want to use. It can Decision tree, Logistic Regressor, SVC anything. It cannot be Knn as the weight cannot be assigned in this model. By default, the base estimator is DecisionTreeClassifier(max_depth=1).\n",
    "\n",
    "**algorithm:** It can be either SAMME or SAMME.R. The performance of the SAMME and SAMME.R algorithms are compared. SAMME.R uses the probability estimates to update the additive model, while SAMME uses the classifications only. As the example illustrates, the SAMME.R algorithm typically converges faster than SAMME, achieving a lower test error with fewer boosting iterations. As we have seen, SAMME.R breaks after the error goes above 1/2. However this is not the case for SAMME although error can be bigger than 1/2 (or equal to 1/2), the weight of the estimator is still positive; hence, the misclassified training samples get more weights, and the test error keeps decreasing even after 600 iterations."
   ]
  },
  {
   "cell_type": "markdown",
   "id": "45e0d666",
   "metadata": {},
   "source": [
    "### AdaBoost"
   ]
  },
  {
   "cell_type": "code",
   "execution_count": null,
   "id": "796c7fdc",
   "metadata": {},
   "outputs": [
    {
     "data": {
      "text/plain": [
       "0.443"
      ]
     },
     "execution_count": 36,
     "metadata": {},
     "output_type": "execute_result"
    }
   ],
   "source": [
    "ada_clf = AdaBoostClassifier(n_estimators=200, random_state=42)\n",
    "ada_clf.fit(X_train, y_train)\n",
    "ada_clf.predict(X_test)\n",
    "ada_clf.score(X_test, y_test)"
   ]
  },
  {
   "cell_type": "code",
   "execution_count": null,
   "id": "30ba2681",
   "metadata": {},
   "outputs": [],
   "source": [
    "# ada1_clf = AdaBoostClassifier(DecisionTreeClassifier(max_depth=3), n_estimators=200,\n",
    "#                                  algorithm=\"SAMME.R\", learning_rate=0.5)\n",
    "# ada1_clf.fit(X_train, y_train)\n",
    "# ada1_clf.predict(X_test)\n",
    "# ada1_clf.score(X_test, y_test)"
   ]
  },
  {
   "cell_type": "markdown",
   "id": "6843fcd9",
   "metadata": {},
   "source": [
    "### Bagging"
   ]
  },
  {
   "cell_type": "code",
   "execution_count": null,
   "id": "64588af9",
   "metadata": {},
   "outputs": [
    {
     "data": {
      "text/plain": [
       "0.7588"
      ]
     },
     "execution_count": 40,
     "metadata": {},
     "output_type": "execute_result"
    }
   ],
   "source": [
    "bag_clf = BaggingClassifier(DecisionTreeClassifier(splitter=\"random\", max_leaf_nodes=10),\n",
    "                             n_estimators=500, max_samples=100, bootstrap=True, n_jobs=-1)\n",
    "bag_clf.fit(X_train, y_train)\n",
    "bag_clf.predict(X_test)\n",
    "bag_clf.score(X_test, y_test)"
   ]
  },
  {
   "cell_type": "markdown",
   "id": "cffde951",
   "metadata": {},
   "source": [
    "### Hard Voting"
   ]
  },
  {
   "cell_type": "code",
   "execution_count": null,
   "id": "6d1a339e",
   "metadata": {},
   "outputs": [
    {
     "data": {
      "text/plain": [
       "0.866"
      ]
     },
     "execution_count": 41,
     "metadata": {},
     "output_type": "execute_result"
    }
   ],
   "source": [
    "h_voting_clf = VotingClassifier(\n",
    "    estimators=[('knn', knn), ('knn_pipeline', pipeline1), ('log_reg', log_reg), ('randomForest', randomForest),\n",
    "                ('randomForest_pipe', rnd_forest_grid), ('sgd_clf', sgd_clf), ('GaussianNB', gnb),\n",
    "                ('bag_clf', bag_clf), ('ada_clf', ada_clf)\n",
    "                # , ('ada1_clf', ada1_clf)\n",
    "                ],\n",
    "    voting='hard')\n",
    "h_voting_clf.fit(X_train, y_train)\n",
    "h_voting_clf.predict(X_test)\n",
    "h_voting_clf.score(X_test, y_test)"
   ]
  },
  {
   "cell_type": "markdown",
   "id": "41830d9c",
   "metadata": {},
   "source": [
    "### Soft Voting"
   ]
  },
  {
   "cell_type": "code",
   "execution_count": null,
   "id": "b445dd67",
   "metadata": {},
   "outputs": [
    {
     "data": {
      "text/plain": [
       "0.8682"
      ]
     },
     "execution_count": 42,
     "metadata": {},
     "output_type": "execute_result"
    }
   ],
   "source": [
    "s_voting_clf = VotingClassifier(\n",
    "    estimators=[('knn', knn), ('knn_pipeline', pipeline1), ('log_reg', log_reg), ('randomForest', randomForest),\n",
    "                ('randomForest_pipe', rnd_forest_grid), ('sgd_clf', sgd_clf), ('GaussianNB', gnb),\n",
    "                ('bag_clf', bag_clf), ('ada_clf', ada_clf)\n",
    "                # , ('ada1_clf', ada1_clf)\n",
    "                ],\n",
    "    voting='soft')\n",
    "s_voting_clf.fit(X_train, y_train)\n",
    "s_voting_clf.predict(X_test)\n",
    "s_voting_clf.score(X_test, y_test)"
   ]
  },
  {
   "cell_type": "code",
   "execution_count": null,
   "id": "45e0d666",
   "metadata": {},
   "outputs": [
    {
     "name": "stdout",
     "output_type": "stream",
     "text": [
      "KNeighborsClassifier 0.8541\n",
      "Pipeline 0.8533\n",
      "LogisticRegression 0.8441\n",
      "RandomForestClassifier 0.8753\n",
      "GridSearchCV 0.8449\n",
      "CalibratedClassifierCV 0.8409\n",
      "BaggingClassifier 0.7588\n",
      "AdaBoostClassifier 0.443\n",
      "GaussianNB 0.5856\n",
      "VotingClassifier 0.866\n",
      "VotingClassifier 0.8682\n"
     ]
    }
   ],
   "source": [
    "max_accuracy_score = 0\n",
    "final_model = ''\n",
    "for clf in (knn, pipeline1, log_reg, randomForest, rnd_forest_grid, sgd_clf, bag_clf, ada_clf\n",
    "# , ada1_clf\n",
    ", gnb, h_voting_clf, s_voting_clf):\n",
    "    # clf.fit(X_train, y_train)\n",
    "    y_pred = clf.predict(X_test)\n",
    "    accuracy_score_ = accuracy_score(y_test, y_pred)\n",
    "    if accuracy_score_ > max_accuracy_score:\n",
    "        final_model = clf\n",
    "        max_accuracy_score = accuracy_score_\n",
    "    print(clf.__class__.__name__, accuracy_score_)\n"
   ]
  },
  {
   "cell_type": "markdown",
   "id": "2d4f69f7",
   "metadata": {},
   "source": [
    "# Performance Measures\n",
    "## Measuring Accuracy Using Cross-Validation"
   ]
  },
  {
   "cell_type": "markdown",
   "id": "25db58ac",
   "metadata": {},
   "source": [
    "The best model is: "
   ]
  },
  {
   "cell_type": "code",
   "execution_count": null,
   "id": "4796fc76",
   "metadata": {},
   "outputs": [
    {
     "data": {
      "text/plain": [
       "RandomForestClassifier()"
      ]
     },
     "execution_count": 44,
     "metadata": {},
     "output_type": "execute_result"
    }
   ],
   "source": [
    "final_model"
   ]
  },
  {
   "cell_type": "markdown",
   "id": "7031b78e",
   "metadata": {},
   "source": [
    "With accuracy score of:  "
   ]
  },
  {
   "cell_type": "code",
   "execution_count": null,
   "id": "cffde951",
   "metadata": {},
   "outputs": [
    {
     "name": "stdout",
     "output_type": "stream",
     "text": [
      "87.53 %\n"
     ]
    }
   ],
   "source": [
    "print(max_accuracy_score *100,'%')\n"
   ]
  }
 ],
 "metadata": {
  "interpreter": {
   "hash": "e8446a84462e6194ca1a866efc9c22d3286fe5985d229b8f6a8c76f6fd8d9795"
  },
  "kernelspec": {
   "display_name": "Python 3 (ipykernel)",
   "language": "python",
   "name": "python3"
  },
  "language_info": {
   "codemirror_mode": {
    "name": "ipython",
    "version": 3
   },
   "file_extension": ".py",
   "mimetype": "text/x-python",
   "name": "python",
   "nbconvert_exporter": "python",
   "pygments_lexer": "ipython3",
   "version": "3.10.11"
  }
 },
 "nbformat": 4,
 "nbformat_minor": 5
}
