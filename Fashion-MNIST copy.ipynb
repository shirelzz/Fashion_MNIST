{
 "cells": [
  {
   "cell_type": "markdown",
   "id": "f0a3055e",
   "metadata": {},
   "source": [
    "# Fashion-MNIST Project"
   ]
  },
  {
   "cell_type": "code",
   "execution_count": 1,
   "id": "b02b3816",
   "metadata": {},
   "outputs": [],
   "source": [
    "from __future__ import absolute_import, division, print_function, unicode_literals\n",
    "import tensorflow as tf\n",
    "import matplotlib.pyplot as plt\n",
    "import importlib\n",
    "from sklearn.pipeline import Pipeline\n",
    "from sklearn import metrics\n",
    "from sklearn.ensemble import AdaBoostClassifier, BaggingClassifier\n",
    "from sklearn.naive_bayes import GaussianNB\n",
    "from sklearn.tree import DecisionTreeClassifier\n",
    "import pandas as pd\n",
    "from sklearn.calibration import CalibratedClassifierCV\n",
    "import utils\n",
    "from sklearn.linear_model import SGDClassifier, LogisticRegression\n",
    "from sklearn.ensemble import RandomForestClassifier, VotingClassifier\n",
    "from sklearn.neighbors import KNeighborsClassifier\n",
    "from sklearn.model_selection import cross_val_predict, cross_val_score, GridSearchCV, train_test_split\n",
    "from sklearn.cluster import KMeans\n",
    "from sklearn.metrics import mean_absolute_error, mean_squared_error, r2_score, confusion_matrix, precision_score, recall_score, f1_score, accuracy_score\n",
    "\n",
    "from scipy.spatial.distance import cdist\n",
    "import numpy as np\n",
    "import matplotlib.pyplot as plt\n",
    "importlib.reload(utils)\n",
    "\n",
    "%matplotlib inline\n"
   ]
  },
  {
   "cell_type": "code",
   "execution_count": 2,
   "id": "e2fde8e2",
   "metadata": {},
   "outputs": [
    {
     "data": {
      "text/plain": [
       "array([[[0, 0, 0, ..., 0, 0, 0],\n",
       "        [0, 0, 0, ..., 0, 0, 0],\n",
       "        [0, 0, 0, ..., 0, 0, 0],\n",
       "        ...,\n",
       "        [0, 0, 0, ..., 0, 0, 0],\n",
       "        [0, 0, 0, ..., 0, 0, 0],\n",
       "        [0, 0, 0, ..., 0, 0, 0]],\n",
       "\n",
       "       [[0, 0, 0, ..., 0, 0, 0],\n",
       "        [0, 0, 0, ..., 0, 0, 0],\n",
       "        [0, 0, 0, ..., 0, 0, 0],\n",
       "        ...,\n",
       "        [0, 0, 0, ..., 0, 0, 0],\n",
       "        [0, 0, 0, ..., 0, 0, 0],\n",
       "        [0, 0, 0, ..., 0, 0, 0]],\n",
       "\n",
       "       [[0, 0, 0, ..., 0, 0, 0],\n",
       "        [0, 0, 0, ..., 0, 0, 0],\n",
       "        [0, 0, 0, ..., 0, 0, 0],\n",
       "        ...,\n",
       "        [0, 0, 0, ..., 0, 0, 0],\n",
       "        [0, 0, 0, ..., 0, 0, 0],\n",
       "        [0, 0, 0, ..., 0, 0, 0]],\n",
       "\n",
       "       ...,\n",
       "\n",
       "       [[0, 0, 0, ..., 0, 0, 0],\n",
       "        [0, 0, 0, ..., 0, 0, 0],\n",
       "        [0, 0, 0, ..., 0, 0, 0],\n",
       "        ...,\n",
       "        [0, 0, 0, ..., 0, 0, 0],\n",
       "        [0, 0, 0, ..., 0, 0, 0],\n",
       "        [0, 0, 0, ..., 0, 0, 0]],\n",
       "\n",
       "       [[0, 0, 0, ..., 0, 0, 0],\n",
       "        [0, 0, 0, ..., 0, 0, 0],\n",
       "        [0, 0, 0, ..., 0, 0, 0],\n",
       "        ...,\n",
       "        [0, 0, 0, ..., 0, 0, 0],\n",
       "        [0, 0, 0, ..., 0, 0, 0],\n",
       "        [0, 0, 0, ..., 0, 0, 0]],\n",
       "\n",
       "       [[0, 0, 0, ..., 0, 0, 0],\n",
       "        [0, 0, 0, ..., 0, 0, 0],\n",
       "        [0, 0, 0, ..., 0, 0, 0],\n",
       "        ...,\n",
       "        [0, 0, 0, ..., 0, 0, 0],\n",
       "        [0, 0, 0, ..., 0, 0, 0],\n",
       "        [0, 0, 0, ..., 0, 0, 0]]], dtype=uint8)"
      ]
     },
     "execution_count": 2,
     "metadata": {},
     "output_type": "execute_result"
    }
   ],
   "source": [
    "fashion_mnist = tf.keras.datasets.fashion_mnist\n",
    "\n",
    "(train_images, train_labels), (test_images, test_labels) = fashion_mnist.load_data()\n",
    "train_images\n"
   ]
  },
  {
   "cell_type": "code",
   "execution_count": 3,
   "id": "6d645d7d",
   "metadata": {},
   "outputs": [],
   "source": [
    "# Combine train and test images and labels\n",
    "images = np.concatenate((train_images, test_images))\n",
    "labels = np.concatenate((train_labels, test_labels))\n",
    "# Flatten images to 1D arrays\n",
    "images = images.reshape(-1, 28*28)\n",
    "# Convert images and labels to DataFrame\n",
    "data = {'image_' + str(i): images[:, i] for i in range(images.shape[1])}\n",
    "data['label'] = labels\n",
    "df = pd.DataFrame(data)\n"
   ]
  },
  {
   "cell_type": "code",
   "execution_count": 4,
   "id": "d338afa3",
   "metadata": {},
   "outputs": [
    {
     "data": {
      "text/html": [
       "<div>\n",
       "<style scoped>\n",
       "    .dataframe tbody tr th:only-of-type {\n",
       "        vertical-align: middle;\n",
       "    }\n",
       "\n",
       "    .dataframe tbody tr th {\n",
       "        vertical-align: top;\n",
       "    }\n",
       "\n",
       "    .dataframe thead th {\n",
       "        text-align: right;\n",
       "    }\n",
       "</style>\n",
       "<table border=\"1\" class=\"dataframe\">\n",
       "  <thead>\n",
       "    <tr style=\"text-align: right;\">\n",
       "      <th></th>\n",
       "      <th>image_0</th>\n",
       "      <th>image_1</th>\n",
       "      <th>image_2</th>\n",
       "      <th>image_3</th>\n",
       "      <th>image_4</th>\n",
       "      <th>image_5</th>\n",
       "      <th>image_6</th>\n",
       "      <th>image_7</th>\n",
       "      <th>image_8</th>\n",
       "      <th>image_9</th>\n",
       "      <th>...</th>\n",
       "      <th>image_775</th>\n",
       "      <th>image_776</th>\n",
       "      <th>image_777</th>\n",
       "      <th>image_778</th>\n",
       "      <th>image_779</th>\n",
       "      <th>image_780</th>\n",
       "      <th>image_781</th>\n",
       "      <th>image_782</th>\n",
       "      <th>image_783</th>\n",
       "      <th>label</th>\n",
       "    </tr>\n",
       "  </thead>\n",
       "  <tbody>\n",
       "    <tr>\n",
       "      <th>0</th>\n",
       "      <td>0</td>\n",
       "      <td>0</td>\n",
       "      <td>0</td>\n",
       "      <td>0</td>\n",
       "      <td>0</td>\n",
       "      <td>0</td>\n",
       "      <td>0</td>\n",
       "      <td>0</td>\n",
       "      <td>0</td>\n",
       "      <td>0</td>\n",
       "      <td>...</td>\n",
       "      <td>0</td>\n",
       "      <td>0</td>\n",
       "      <td>0</td>\n",
       "      <td>0</td>\n",
       "      <td>0</td>\n",
       "      <td>0</td>\n",
       "      <td>0</td>\n",
       "      <td>0</td>\n",
       "      <td>0</td>\n",
       "      <td>9</td>\n",
       "    </tr>\n",
       "    <tr>\n",
       "      <th>1</th>\n",
       "      <td>0</td>\n",
       "      <td>0</td>\n",
       "      <td>0</td>\n",
       "      <td>0</td>\n",
       "      <td>0</td>\n",
       "      <td>1</td>\n",
       "      <td>0</td>\n",
       "      <td>0</td>\n",
       "      <td>0</td>\n",
       "      <td>0</td>\n",
       "      <td>...</td>\n",
       "      <td>114</td>\n",
       "      <td>130</td>\n",
       "      <td>76</td>\n",
       "      <td>0</td>\n",
       "      <td>0</td>\n",
       "      <td>0</td>\n",
       "      <td>0</td>\n",
       "      <td>0</td>\n",
       "      <td>0</td>\n",
       "      <td>0</td>\n",
       "    </tr>\n",
       "    <tr>\n",
       "      <th>2</th>\n",
       "      <td>0</td>\n",
       "      <td>0</td>\n",
       "      <td>0</td>\n",
       "      <td>0</td>\n",
       "      <td>0</td>\n",
       "      <td>0</td>\n",
       "      <td>0</td>\n",
       "      <td>0</td>\n",
       "      <td>0</td>\n",
       "      <td>22</td>\n",
       "      <td>...</td>\n",
       "      <td>0</td>\n",
       "      <td>1</td>\n",
       "      <td>0</td>\n",
       "      <td>0</td>\n",
       "      <td>0</td>\n",
       "      <td>0</td>\n",
       "      <td>0</td>\n",
       "      <td>0</td>\n",
       "      <td>0</td>\n",
       "      <td>0</td>\n",
       "    </tr>\n",
       "    <tr>\n",
       "      <th>3</th>\n",
       "      <td>0</td>\n",
       "      <td>0</td>\n",
       "      <td>0</td>\n",
       "      <td>0</td>\n",
       "      <td>0</td>\n",
       "      <td>0</td>\n",
       "      <td>0</td>\n",
       "      <td>0</td>\n",
       "      <td>33</td>\n",
       "      <td>96</td>\n",
       "      <td>...</td>\n",
       "      <td>0</td>\n",
       "      <td>0</td>\n",
       "      <td>0</td>\n",
       "      <td>0</td>\n",
       "      <td>0</td>\n",
       "      <td>0</td>\n",
       "      <td>0</td>\n",
       "      <td>0</td>\n",
       "      <td>0</td>\n",
       "      <td>3</td>\n",
       "    </tr>\n",
       "    <tr>\n",
       "      <th>4</th>\n",
       "      <td>0</td>\n",
       "      <td>0</td>\n",
       "      <td>0</td>\n",
       "      <td>0</td>\n",
       "      <td>0</td>\n",
       "      <td>0</td>\n",
       "      <td>0</td>\n",
       "      <td>0</td>\n",
       "      <td>0</td>\n",
       "      <td>0</td>\n",
       "      <td>...</td>\n",
       "      <td>0</td>\n",
       "      <td>0</td>\n",
       "      <td>0</td>\n",
       "      <td>0</td>\n",
       "      <td>0</td>\n",
       "      <td>0</td>\n",
       "      <td>0</td>\n",
       "      <td>0</td>\n",
       "      <td>0</td>\n",
       "      <td>0</td>\n",
       "    </tr>\n",
       "    <tr>\n",
       "      <th>...</th>\n",
       "      <td>...</td>\n",
       "      <td>...</td>\n",
       "      <td>...</td>\n",
       "      <td>...</td>\n",
       "      <td>...</td>\n",
       "      <td>...</td>\n",
       "      <td>...</td>\n",
       "      <td>...</td>\n",
       "      <td>...</td>\n",
       "      <td>...</td>\n",
       "      <td>...</td>\n",
       "      <td>...</td>\n",
       "      <td>...</td>\n",
       "      <td>...</td>\n",
       "      <td>...</td>\n",
       "      <td>...</td>\n",
       "      <td>...</td>\n",
       "      <td>...</td>\n",
       "      <td>...</td>\n",
       "      <td>...</td>\n",
       "      <td>...</td>\n",
       "    </tr>\n",
       "    <tr>\n",
       "      <th>69995</th>\n",
       "      <td>0</td>\n",
       "      <td>0</td>\n",
       "      <td>0</td>\n",
       "      <td>0</td>\n",
       "      <td>0</td>\n",
       "      <td>0</td>\n",
       "      <td>0</td>\n",
       "      <td>0</td>\n",
       "      <td>0</td>\n",
       "      <td>0</td>\n",
       "      <td>...</td>\n",
       "      <td>0</td>\n",
       "      <td>0</td>\n",
       "      <td>0</td>\n",
       "      <td>0</td>\n",
       "      <td>0</td>\n",
       "      <td>0</td>\n",
       "      <td>0</td>\n",
       "      <td>0</td>\n",
       "      <td>0</td>\n",
       "      <td>9</td>\n",
       "    </tr>\n",
       "    <tr>\n",
       "      <th>69996</th>\n",
       "      <td>0</td>\n",
       "      <td>0</td>\n",
       "      <td>0</td>\n",
       "      <td>0</td>\n",
       "      <td>0</td>\n",
       "      <td>0</td>\n",
       "      <td>0</td>\n",
       "      <td>0</td>\n",
       "      <td>0</td>\n",
       "      <td>31</td>\n",
       "      <td>...</td>\n",
       "      <td>0</td>\n",
       "      <td>0</td>\n",
       "      <td>0</td>\n",
       "      <td>0</td>\n",
       "      <td>0</td>\n",
       "      <td>0</td>\n",
       "      <td>0</td>\n",
       "      <td>0</td>\n",
       "      <td>0</td>\n",
       "      <td>1</td>\n",
       "    </tr>\n",
       "    <tr>\n",
       "      <th>69997</th>\n",
       "      <td>0</td>\n",
       "      <td>0</td>\n",
       "      <td>0</td>\n",
       "      <td>0</td>\n",
       "      <td>0</td>\n",
       "      <td>0</td>\n",
       "      <td>0</td>\n",
       "      <td>0</td>\n",
       "      <td>0</td>\n",
       "      <td>0</td>\n",
       "      <td>...</td>\n",
       "      <td>0</td>\n",
       "      <td>0</td>\n",
       "      <td>0</td>\n",
       "      <td>0</td>\n",
       "      <td>0</td>\n",
       "      <td>0</td>\n",
       "      <td>0</td>\n",
       "      <td>0</td>\n",
       "      <td>0</td>\n",
       "      <td>8</td>\n",
       "    </tr>\n",
       "    <tr>\n",
       "      <th>69998</th>\n",
       "      <td>0</td>\n",
       "      <td>0</td>\n",
       "      <td>0</td>\n",
       "      <td>0</td>\n",
       "      <td>0</td>\n",
       "      <td>0</td>\n",
       "      <td>0</td>\n",
       "      <td>0</td>\n",
       "      <td>0</td>\n",
       "      <td>0</td>\n",
       "      <td>...</td>\n",
       "      <td>0</td>\n",
       "      <td>0</td>\n",
       "      <td>0</td>\n",
       "      <td>0</td>\n",
       "      <td>0</td>\n",
       "      <td>0</td>\n",
       "      <td>0</td>\n",
       "      <td>0</td>\n",
       "      <td>0</td>\n",
       "      <td>1</td>\n",
       "    </tr>\n",
       "    <tr>\n",
       "      <th>69999</th>\n",
       "      <td>0</td>\n",
       "      <td>0</td>\n",
       "      <td>0</td>\n",
       "      <td>0</td>\n",
       "      <td>0</td>\n",
       "      <td>0</td>\n",
       "      <td>0</td>\n",
       "      <td>0</td>\n",
       "      <td>0</td>\n",
       "      <td>0</td>\n",
       "      <td>...</td>\n",
       "      <td>0</td>\n",
       "      <td>0</td>\n",
       "      <td>0</td>\n",
       "      <td>0</td>\n",
       "      <td>0</td>\n",
       "      <td>0</td>\n",
       "      <td>0</td>\n",
       "      <td>0</td>\n",
       "      <td>0</td>\n",
       "      <td>5</td>\n",
       "    </tr>\n",
       "  </tbody>\n",
       "</table>\n",
       "<p>70000 rows × 785 columns</p>\n",
       "</div>"
      ],
      "text/plain": [
       "       image_0  image_1  image_2  image_3  image_4  image_5  image_6  image_7   \n",
       "0            0        0        0        0        0        0        0        0  \\\n",
       "1            0        0        0        0        0        1        0        0   \n",
       "2            0        0        0        0        0        0        0        0   \n",
       "3            0        0        0        0        0        0        0        0   \n",
       "4            0        0        0        0        0        0        0        0   \n",
       "...        ...      ...      ...      ...      ...      ...      ...      ...   \n",
       "69995        0        0        0        0        0        0        0        0   \n",
       "69996        0        0        0        0        0        0        0        0   \n",
       "69997        0        0        0        0        0        0        0        0   \n",
       "69998        0        0        0        0        0        0        0        0   \n",
       "69999        0        0        0        0        0        0        0        0   \n",
       "\n",
       "       image_8  image_9  ...  image_775  image_776  image_777  image_778   \n",
       "0            0        0  ...          0          0          0          0  \\\n",
       "1            0        0  ...        114        130         76          0   \n",
       "2            0       22  ...          0          1          0          0   \n",
       "3           33       96  ...          0          0          0          0   \n",
       "4            0        0  ...          0          0          0          0   \n",
       "...        ...      ...  ...        ...        ...        ...        ...   \n",
       "69995        0        0  ...          0          0          0          0   \n",
       "69996        0       31  ...          0          0          0          0   \n",
       "69997        0        0  ...          0          0          0          0   \n",
       "69998        0        0  ...          0          0          0          0   \n",
       "69999        0        0  ...          0          0          0          0   \n",
       "\n",
       "       image_779  image_780  image_781  image_782  image_783  label  \n",
       "0              0          0          0          0          0      9  \n",
       "1              0          0          0          0          0      0  \n",
       "2              0          0          0          0          0      0  \n",
       "3              0          0          0          0          0      3  \n",
       "4              0          0          0          0          0      0  \n",
       "...          ...        ...        ...        ...        ...    ...  \n",
       "69995          0          0          0          0          0      9  \n",
       "69996          0          0          0          0          0      1  \n",
       "69997          0          0          0          0          0      8  \n",
       "69998          0          0          0          0          0      1  \n",
       "69999          0          0          0          0          0      5  \n",
       "\n",
       "[70000 rows x 785 columns]"
      ]
     },
     "execution_count": 4,
     "metadata": {},
     "output_type": "execute_result"
    }
   ],
   "source": [
    "df"
   ]
  },
  {
   "cell_type": "code",
   "execution_count": 5,
   "id": "b5282b9c",
   "metadata": {},
   "outputs": [],
   "source": [
    "# Shuffle the DataFrame according to your preference\n",
    "df_shuffled = df.sample(frac=1).reset_index(drop=True)\n"
   ]
  },
  {
   "cell_type": "code",
   "execution_count": 6,
   "id": "b8c6831b",
   "metadata": {},
   "outputs": [],
   "source": [
    "X = df_shuffled.drop('label', axis=1)  \n",
    "y = df_shuffled['label']\n",
    "X_train_, X_test, y_train_, y_test = train_test_split(X, y, test_size=0.1, random_state=42)\n",
    "X_train, X_validation, y_train, y_validation = train_test_split(X_train_, y_train_, test_size=0.1, random_state=42)"
   ]
  },
  {
   "cell_type": "markdown",
   "id": "ea5a7755",
   "metadata": {},
   "source": [
    "## The Labels according to their numbers in the array\n",
    "\n",
    "Label: 0    ---> Class: T-shirt/top\n",
    "\n",
    "Label: 1\t---> Class: Trouser\n",
    "\n",
    "Label: 2\t---> Class: Pullover\n",
    "\n",
    "Label: 3\t---> Class: Dress\n",
    "\n",
    "Label: 4\t---> Class: Coat\n",
    "\n",
    "Label: 5\t---> Class: Sandal\n",
    "\n",
    "Label: 6\t---> Class: Shirt\n",
    "\n",
    "Label: 7\t---> Class: Sneaker\n",
    "\n",
    "Label: 8\t---> Class: Bag\n",
    "\n",
    "Label: 9\t---> Class: Ankle boot\n"
   ]
  },
  {
   "cell_type": "code",
   "execution_count": 7,
   "id": "05d33f9d",
   "metadata": {},
   "outputs": [],
   "source": [
    "class_names = ['T-shirt/top', 'Trouser', 'Pullover', 'Dress', 'Coat',\n",
    "               'Sandal', 'Shirt', 'Sneaker', 'Bag', 'Ankle boot']\n"
   ]
  },
  {
   "cell_type": "code",
   "execution_count": 8,
   "id": "4da4dda1",
   "metadata": {},
   "outputs": [
    {
     "data": {
      "image/png": "[encoded data removed]",
      "text/plain": [
       "<Figure size 1000x1000 with 25 Axes>"
      ]
     },
     "metadata": {},
     "output_type": "display_data"
    }
   ],
   "source": [
    "# Show the first 25 images\n",
    "\n",
    "utils.plot_multi_images(train_images, train_labels, class_names)\n"
   ]
  },
  {
   "cell_type": "markdown",
   "id": "d84d9812",
   "metadata": {},
   "source": [
    "Explore the Data"
   ]
  },
  {
   "cell_type": "code",
   "execution_count": 9,
   "id": "8dc8b2fe",
   "metadata": {},
   "outputs": [
    {
     "data": {
      "text/plain": [
       "(56700, 784)"
      ]
     },
     "execution_count": 9,
     "metadata": {},
     "output_type": "execute_result"
    }
   ],
   "source": [
    "X_train.shape\n"
   ]
  },
  {
   "cell_type": "code",
   "execution_count": 10,
   "id": "925972b6",
   "metadata": {},
   "outputs": [
    {
     "data": {
      "text/plain": [
       "56700"
      ]
     },
     "execution_count": 10,
     "metadata": {},
     "output_type": "execute_result"
    }
   ],
   "source": [
    "len(y_train)\n"
   ]
  },
  {
   "cell_type": "code",
   "execution_count": 11,
   "id": "a7b11fc8",
   "metadata": {},
   "outputs": [
    {
     "data": {
      "text/plain": [
       "(7000, 784)"
      ]
     },
     "execution_count": 11,
     "metadata": {},
     "output_type": "execute_result"
    }
   ],
   "source": [
    "X_test.shape\n"
   ]
  },
  {
   "cell_type": "code",
   "execution_count": 12,
   "id": "fb24372a",
   "metadata": {},
   "outputs": [
    {
     "data": {
      "text/plain": [
       "7000"
      ]
     },
     "execution_count": 12,
     "metadata": {},
     "output_type": "execute_result"
    }
   ],
   "source": [
    "len(y_test)\n"
   ]
  },
  {
   "cell_type": "markdown",
   "id": "d0d88cbc",
   "metadata": {},
   "source": [
    "Preprocess the data"
   ]
  },
  {
   "cell_type": "code",
   "execution_count": 13,
   "id": "8a871390",
   "metadata": {},
   "outputs": [],
   "source": [
    "# To transform the images to be in scale from 0-1\n",
    "train_images = X_train / 255.0\n",
    "\n",
    "test_images = X_test / 255.0\n"
   ]
  },
  {
   "cell_type": "markdown",
   "id": "b328d551",
   "metadata": {},
   "source": [
    "Build the model"
   ]
  },
  {
   "cell_type": "code",
   "execution_count": 14,
   "id": "ab9d033b",
   "metadata": {},
   "outputs": [],
   "source": [
    "# print(train_images.shape)\n",
    "# X_train = []\n",
    "# X_test = []\n",
    "# for i in range(len(train_images)):\n",
    "#     temp = train_images[i].reshape(-1, 784)\n",
    "#     X_train.append(temp[0])\n",
    "# X_train = np.array(X_train)\n",
    "# for i in range(len(test_images)):\n",
    "#     temp = test_images[i].reshape(-1, 784)\n",
    "#     X_test.append(temp[0])\n",
    "# X_test = np.array(X_test)\n",
    "# print(X_test.shape)\n",
    "\n",
    "# y_train = train_labels.copy()\n",
    "# y_test = test_labels.copy()\n"
   ]
  },
  {
   "cell_type": "code",
   "execution_count": 15,
   "id": "5d940dab",
   "metadata": {},
   "outputs": [],
   "source": [
    "# X_train_ = X_train\n",
    "# X_test_ = X_test\n",
    "# y_train_ = y_train\n",
    "# y_test_ = y_test"
   ]
  },
  {
   "cell_type": "markdown",
   "id": "5af1a35f",
   "metadata": {},
   "source": [
    "### Best K for Knn algorithm"
   ]
  },
  {
   "cell_type": "code",
   "execution_count": 16,
   "id": "e641c8bd",
   "metadata": {},
   "outputs": [],
   "source": [
    "best_k = 3"
   ]
  },
  {
   "cell_type": "code",
   "execution_count": 17,
   "id": "0cddc458",
   "metadata": {},
   "outputs": [
    {
     "name": "stdout",
     "output_type": "stream",
     "text": [
      "1\n",
      "2\n",
      "3\n",
      "4\n",
      "5\n",
      "6\n",
      "7\n",
      "8\n",
      "9\n",
      "10\n",
      "11\n",
      "12\n",
      "13\n",
      "14\n",
      "15\n",
      "16\n",
      "17\n",
      "18\n",
      "19\n",
      "20\n",
      "21\n",
      "22\n",
      "23\n",
      "24\n",
      "25\n",
      "26\n",
      "27\n",
      "28\n",
      "29\n",
      "30\n",
      "31\n",
      "32\n",
      "33\n",
      "34\n",
      "35\n",
      "36\n",
      "37\n",
      "38\n",
      "39\n",
      "40\n",
      "41\n",
      "42\n",
      "43\n",
      "44\n",
      "45\n",
      "46\n",
      "47\n",
      "48\n",
      "49\n",
      "The best accuracy of the knn model is when k = 5 , and the score is: 0.8578571428571429\n"
     ]
    },
    {
     "data": {
      "image/png": "[encoded data removed]",
      "text/plain": [
       "<Figure size 1200x600 with 1 Axes>"
      ]
     },
     "metadata": {},
     "output_type": "display_data"
    }
   ],
   "source": [
    "k_range = range(1,50)\n",
    "scores = []\n",
    "for k in k_range:\n",
    "    print(k)\n",
    "    knn_ = KNeighborsClassifier(n_neighbors=k)\n",
    "    knn_.fit(X_train, y_train)\n",
    "    y_pred = knn_.predict(X_test)\n",
    "    scores.append(metrics.accuracy_score(y_test, y_pred))\n",
    "\n",
    "plt.figure(figsize=(12, 6))\n",
    "plt.plot(k_range, scores,color='red', linestyle='dashed', marker='o',\n",
    "         markerfacecolor='blue', markersize=10)\n",
    "plt.xlabel('Value of K for KNN')\n",
    "plt.ylabel('Testing Accuracy')\n",
    "\n",
    "# Finding the maximum k - the number of nearest neighbors:\n",
    "max_score = max(scores)\n",
    "best_k = scores.index(max_score)\n",
    "print(\"The best accuracy of the knn model is when k =\",best_k, \", and the score is:\",max_score) "
   ]
  },
  {
   "cell_type": "code",
   "execution_count": 18,
   "id": "0f4148ba",
   "metadata": {},
   "outputs": [
    {
     "data": {
      "text/plain": [
       "5"
      ]
     },
     "execution_count": 18,
     "metadata": {},
     "output_type": "execute_result"
    }
   ],
   "source": [
    "best_k"
   ]
  },
  {
   "cell_type": "markdown",
   "id": "48fd3ccd",
   "metadata": {},
   "source": [
    "## Training Our Models"
   ]
  },
  {
   "cell_type": "code",
   "execution_count": 19,
   "id": "9322212a",
   "metadata": {},
   "outputs": [],
   "source": [
    "knn = KNeighborsClassifier(n_neighbors=best_k)\n",
    "log_reg = LogisticRegression(max_iter=100000, random_state=42)\n",
    "randomForest = RandomForestClassifier()\n",
    "clf = SGDClassifier(random_state=42)\n",
    "sgd_clf = CalibratedClassifierCV(clf, cv=5, method='sigmoid')\n",
    "gnb = GaussianNB()"
   ]
  },
  {
   "cell_type": "markdown",
   "id": "96f9aca7",
   "metadata": {},
   "source": [
    "### Fit the data"
   ]
  },
  {
   "cell_type": "code",
   "execution_count": 20,
   "id": "48ea1a76",
   "metadata": {},
   "outputs": [
    {
     "data": {
      "text/plain": [
       "0.8531428571428571"
      ]
     },
     "execution_count": 20,
     "metadata": {},
     "output_type": "execute_result"
    }
   ],
   "source": [
    "knn.fit(X_train, y_train)\n",
    "knn_predict = knn.predict(X_test)\n",
    "knn.score(X_test, y_test)"
   ]
  },
  {
   "cell_type": "code",
   "execution_count": 21,
   "id": "c3e97968",
   "metadata": {},
   "outputs": [
    {
     "name": "stdout",
     "output_type": "stream",
     "text": [
      "MSE:  2.0108571428571427\n",
      "RMSE:  1.418046946633694\n",
      "MAE:  4.388068237521251\n",
      "R2 Score:  0.7569223539881794\n"
     ]
    }
   ],
   "source": [
    "# MSE\n",
    "knn_mse = mean_squared_error(y_test, knn_predict)\n",
    "print(\"MSE: \", knn_mse)\n",
    "\n",
    "# RMSE\n",
    "print(\"RMSE: \", np.sqrt(mean_squared_error(y_test, knn_predict)))\n",
    "\n",
    "# MAE\n",
    "print(\"MAE: \", np.sqrt(mean_absolute_error(y_test, knn_predict)))\n",
    "      \n",
    "# R2 Score\n",
    "print(\"R2 Score: \", r2_score(y_test, knn_predict))"
   ]
  },
  {
   "cell_type": "code",
   "execution_count": 22,
   "id": "4cff0e5d",
   "metadata": {},
   "outputs": [
    {
     "name": "stderr",
     "output_type": "stream",
     "text": [
      "c:\\Users\\moria\\AppData\\Local\\Programs\\Python\\Python39\\lib\\site-packages\\sklearn\\linear_model\\_logistic.py:458: ConvergenceWarning: lbfgs failed to converge (status=1):\n",
      "STOP: TOTAL NO. of f AND g EVALUATIONS EXCEEDS LIMIT.\n",
      "\n",
      "Increase the number of iterations (max_iter) or scale the data as shown in:\n",
      "    https://scikit-learn.org/stable/modules/preprocessing.html\n",
      "Please also refer to the documentation for alternative solver options:\n",
      "    https://scikit-learn.org/stable/modules/linear_model.html#logistic-regression\n",
      "  n_iter_i = _check_optimize_result(\n"
     ]
    },
    {
     "data": {
      "text/plain": [
       "0.8407142857142857"
      ]
     },
     "execution_count": 22,
     "metadata": {},
     "output_type": "execute_result"
    }
   ],
   "source": [
    "log_reg.fit(X_train, y_train)\n",
    "log_reg_predict = log_reg.predict(X_test)\n",
    "log_reg.score(X_test, y_test)"
   ]
  },
  {
   "cell_type": "code",
   "execution_count": 23,
   "id": "2354e7d8",
   "metadata": {},
   "outputs": [
    {
     "name": "stdout",
     "output_type": "stream",
     "text": [
      "MSE:  2.085714285714286\n",
      "RMSE:  1.4442002235542986\n",
      "MAE:  4.466926076333542\n",
      "R2 Score:  0.7478734276944743\n"
     ]
    }
   ],
   "source": [
    "# MSE\n",
    "log_reg_mse = mean_squared_error(y_test, log_reg_predict)\n",
    "print(\"MSE: \", log_reg_mse)\n",
    "\n",
    "# RMSE\n",
    "print(\"RMSE: \", np.sqrt(mean_squared_error(y_test, log_reg_predict)))\n",
    "\n",
    "# MAE\n",
    "print(\"MAE: \", np.sqrt(mean_absolute_error(y_test, log_reg_predict)))\n",
    "      \n",
    "# R2 Score\n",
    "print(\"R2 Score: \", r2_score(y_test, log_reg_predict))"
   ]
  },
  {
   "cell_type": "code",
   "execution_count": 24,
   "id": "65390659",
   "metadata": {},
   "outputs": [],
   "source": [
    "randomForest.fit(X_train, y_train)\n",
    "randomForest_predict = randomForest.predict(X_test)"
   ]
  },
  {
   "cell_type": "code",
   "execution_count": 25,
   "id": "25d11186",
   "metadata": {},
   "outputs": [
    {
     "name": "stdout",
     "output_type": "stream",
     "text": [
      "MSE:  1.616\n",
      "RMSE:  1.2712198865656563\n",
      "MAE:  4.045950356308674\n",
      "R2 Score:  0.8046537132931433\n"
     ]
    }
   ],
   "source": [
    "# MSE\n",
    "random_forest_mse = mean_squared_error(y_test, randomForest_predict)\n",
    "print(\"MSE: \", random_forest_mse)\n",
    "\n",
    "# RMSE\n",
    "print(\"RMSE: \", np.sqrt(mean_squared_error(y_test, randomForest_predict)))\n",
    "\n",
    "# MAE\n",
    "print(\"MAE: \", np.sqrt(mean_absolute_error(y_test, randomForest_predict)))\n",
    "      \n",
    "# R2 Score\n",
    "print(\"R2 Score: \", r2_score(y_test, randomForest_predict))"
   ]
  },
  {
   "cell_type": "code",
   "execution_count": 26,
   "id": "812a54fe",
   "metadata": {},
   "outputs": [],
   "source": [
    "sgd_clf.fit(X_train, y_train)\n",
    "sgd_clf_predict = sgd_clf.predict(X_test)"
   ]
  },
  {
   "cell_type": "code",
   "execution_count": 27,
   "id": "8280a955",
   "metadata": {},
   "outputs": [
    {
     "name": "stdout",
     "output_type": "stream",
     "text": [
      "MSE:  2.322142857142857\n",
      "RMSE:  1.5238578861373056\n",
      "MAE:  4.684335598566781\n",
      "R2 Score:  0.7192933265187451\n"
     ]
    }
   ],
   "source": [
    "# MSE\n",
    "sgd_clf_mse = mean_squared_error(y_test, sgd_clf_predict)\n",
    "print(\"MSE: \", sgd_clf_mse)\n",
    "\n",
    "# RMSE\n",
    "print(\"RMSE: \", np.sqrt(mean_squared_error(y_test, sgd_clf_predict)))\n",
    "\n",
    "# MAE\n",
    "print(\"MAE: \", np.sqrt(mean_absolute_error(y_test, sgd_clf_predict)))\n",
    "      \n",
    "# R2 Score\n",
    "print(\"R2 Score: \", r2_score(y_test, sgd_clf_predict))"
   ]
  },
  {
   "cell_type": "code",
   "execution_count": 28,
   "id": "a21a54ad",
   "metadata": {},
   "outputs": [
    {
     "data": {
      "text/plain": [
       "0.5922857142857143"
      ]
     },
     "execution_count": 28,
     "metadata": {},
     "output_type": "execute_result"
    }
   ],
   "source": [
    "gnb.fit(X_train, y_train)\n",
    "gnb_predict = gnb.predict(X_test)\n",
    "gnb.score(X_test, y_test)"
   ]
  },
  {
   "cell_type": "code",
   "execution_count": 29,
   "id": "db2ccbcb",
   "metadata": {},
   "outputs": [
    {
     "name": "stdout",
     "output_type": "stream",
     "text": [
      "MSE:  3.180285714285714\n",
      "RMSE:  1.7833355585210862\n",
      "MAE:  7.360725895880495\n",
      "R2 Score:  0.6155587840639991\n"
     ]
    }
   ],
   "source": [
    "# MSE\n",
    "gnb_mse = mean_squared_error(y_test, gnb_predict)\n",
    "print(\"MSE: \", gnb_mse)\n",
    "\n",
    "# RMSE\n",
    "print(\"RMSE: \", np.sqrt(mean_squared_error(y_test, gnb_predict)))\n",
    "\n",
    "# MAE\n",
    "print(\"MAE: \", np.sqrt(mean_absolute_error(y_test, gnb_predict)))\n",
    "      \n",
    "# R2 Score\n",
    "print(\"R2 Score: \", r2_score(y_test, gnb_predict))"
   ]
  },
  {
   "cell_type": "markdown",
   "id": "658fe860",
   "metadata": {},
   "source": [
    "### Adding the neural network"
   ]
  },
  {
   "cell_type": "code",
   "execution_count": null,
   "id": "3a7a3824",
   "metadata": {},
   "outputs": [],
   "source": []
  }
 ],
 "metadata": {
  "interpreter": {
   "hash": "e8446a84462e6194ca1a866efc9c22d3286fe5985d229b8f6a8c76f6fd8d9795"
  },
  "kernelspec": {
   "display_name": "Python 3 (ipykernel)",
   "language": "python",
   "name": "python3"
  },
  "language_info": {
   "codemirror_mode": {
    "name": "ipython",
    "version": 3
   },
   "file_extension": ".py",
   "mimetype": "text/x-python",
   "name": "python",
   "nbconvert_exporter": "python",
   "pygments_lexer": "ipython3",
   "version": "3.9.11"
  }
 },
 "nbformat": 4,
 "nbformat_minor": 5
}
