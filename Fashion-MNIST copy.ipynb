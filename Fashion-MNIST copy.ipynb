{
 "cells": [
  {
   "cell_type": "markdown",
   "id": "f0a3055e",
   "metadata": {},
   "source": [
    "# Fashion-MNIST Project"
   ]
  },
  {
   "cell_type": "code",
   "execution_count": 6,
   "id": "b02b3816",
   "metadata": {},
   "outputs": [],
   "source": [
    "from __future__ import absolute_import, division, print_function, unicode_literals\n",
    "import tensorflow as tf\n",
    "import matplotlib.pyplot as plt\n",
    "import importlib\n",
    "from sklearn import metrics\n",
    "from sklearn.naive_bayes import GaussianNB\n",
    "import pandas as pd\n",
    "from sklearn.calibration import CalibratedClassifierCV\n",
    "import utils\n",
    "from sklearn.linear_model import SGDClassifier, LogisticRegression\n",
    "from sklearn.ensemble import RandomForestClassifier\n",
    "from sklearn.neighbors import KNeighborsClassifier\n",
    "from sklearn.model_selection import train_test_split\n",
    "from sklearn.metrics import mean_absolute_error, mean_squared_error, r2_score\n",
    "from tensorflow import keras\n",
    "import numpy as np\n",
    "import matplotlib.pyplot as plt\n",
    "importlib.reload(utils)\n",
    "\n",
    "%matplotlib inline\n"
   ]
  },
  {
   "cell_type": "code",
   "execution_count": 7,
   "id": "e2fde8e2",
   "metadata": {},
   "outputs": [
    {
     "data": {
      "text/plain": [
       "array([[[0, 0, 0, ..., 0, 0, 0],\n",
       "        [0, 0, 0, ..., 0, 0, 0],\n",
       "        [0, 0, 0, ..., 0, 0, 0],\n",
       "        ...,\n",
       "        [0, 0, 0, ..., 0, 0, 0],\n",
       "        [0, 0, 0, ..., 0, 0, 0],\n",
       "        [0, 0, 0, ..., 0, 0, 0]],\n",
       "\n",
       "       [[0, 0, 0, ..., 0, 0, 0],\n",
       "        [0, 0, 0, ..., 0, 0, 0],\n",
       "        [0, 0, 0, ..., 0, 0, 0],\n",
       "        ...,\n",
       "        [0, 0, 0, ..., 0, 0, 0],\n",
       "        [0, 0, 0, ..., 0, 0, 0],\n",
       "        [0, 0, 0, ..., 0, 0, 0]],\n",
       "\n",
       "       [[0, 0, 0, ..., 0, 0, 0],\n",
       "        [0, 0, 0, ..., 0, 0, 0],\n",
       "        [0, 0, 0, ..., 0, 0, 0],\n",
       "        ...,\n",
       "        [0, 0, 0, ..., 0, 0, 0],\n",
       "        [0, 0, 0, ..., 0, 0, 0],\n",
       "        [0, 0, 0, ..., 0, 0, 0]],\n",
       "\n",
       "       ...,\n",
       "\n",
       "       [[0, 0, 0, ..., 0, 0, 0],\n",
       "        [0, 0, 0, ..., 0, 0, 0],\n",
       "        [0, 0, 0, ..., 0, 0, 0],\n",
       "        ...,\n",
       "        [0, 0, 0, ..., 0, 0, 0],\n",
       "        [0, 0, 0, ..., 0, 0, 0],\n",
       "        [0, 0, 0, ..., 0, 0, 0]],\n",
       "\n",
       "       [[0, 0, 0, ..., 0, 0, 0],\n",
       "        [0, 0, 0, ..., 0, 0, 0],\n",
       "        [0, 0, 0, ..., 0, 0, 0],\n",
       "        ...,\n",
       "        [0, 0, 0, ..., 0, 0, 0],\n",
       "        [0, 0, 0, ..., 0, 0, 0],\n",
       "        [0, 0, 0, ..., 0, 0, 0]],\n",
       "\n",
       "       [[0, 0, 0, ..., 0, 0, 0],\n",
       "        [0, 0, 0, ..., 0, 0, 0],\n",
       "        [0, 0, 0, ..., 0, 0, 0],\n",
       "        ...,\n",
       "        [0, 0, 0, ..., 0, 0, 0],\n",
       "        [0, 0, 0, ..., 0, 0, 0],\n",
       "        [0, 0, 0, ..., 0, 0, 0]]], dtype=uint8)"
      ]
     },
     "execution_count": 7,
     "metadata": {},
     "output_type": "execute_result"
    }
   ],
   "source": [
    "fashion_mnist = tf.keras.datasets.fashion_mnist\n",
    "\n",
    "(train_images, train_labels), (test_images, test_labels) = fashion_mnist.load_data()\n",
    "train_images\n"
   ]
  },
  {
   "cell_type": "code",
   "execution_count": 8,
   "id": "6d645d7d",
   "metadata": {},
   "outputs": [],
   "source": [
    "# Combine train and test images and labels\n",
    "images = np.concatenate((train_images, test_images))\n",
    "labels = np.concatenate((train_labels, test_labels))\n",
    "# Flatten images to 1D arrays\n",
    "images = images.reshape(-1, 28*28)\n",
    "# Convert images and labels to DataFrame\n",
    "data = {'image_' + str(i): images[:, i] for i in range(images.shape[1])}\n",
    "data['label'] = labels\n",
    "df = pd.DataFrame(data)\n"
   ]
  },
  {
   "cell_type": "code",
   "execution_count": 9,
   "id": "d338afa3",
   "metadata": {},
   "outputs": [
    {
     "data": {
      "text/html": [
       "<div>\n",
       "<style scoped>\n",
       "    .dataframe tbody tr th:only-of-type {\n",
       "        vertical-align: middle;\n",
       "    }\n",
       "\n",
       "    .dataframe tbody tr th {\n",
       "        vertical-align: top;\n",
       "    }\n",
       "\n",
       "    .dataframe thead th {\n",
       "        text-align: right;\n",
       "    }\n",
       "</style>\n",
       "<table border=\"1\" class=\"dataframe\">\n",
       "  <thead>\n",
       "    <tr style=\"text-align: right;\">\n",
       "      <th></th>\n",
       "      <th>image_0</th>\n",
       "      <th>image_1</th>\n",
       "      <th>image_2</th>\n",
       "      <th>image_3</th>\n",
       "      <th>image_4</th>\n",
       "      <th>image_5</th>\n",
       "      <th>image_6</th>\n",
       "      <th>image_7</th>\n",
       "      <th>image_8</th>\n",
       "      <th>image_9</th>\n",
       "      <th>...</th>\n",
       "      <th>image_775</th>\n",
       "      <th>image_776</th>\n",
       "      <th>image_777</th>\n",
       "      <th>image_778</th>\n",
       "      <th>image_779</th>\n",
       "      <th>image_780</th>\n",
       "      <th>image_781</th>\n",
       "      <th>image_782</th>\n",
       "      <th>image_783</th>\n",
       "      <th>label</th>\n",
       "    </tr>\n",
       "  </thead>\n",
       "  <tbody>\n",
       "    <tr>\n",
       "      <th>0</th>\n",
       "      <td>0</td>\n",
       "      <td>0</td>\n",
       "      <td>0</td>\n",
       "      <td>0</td>\n",
       "      <td>0</td>\n",
       "      <td>0</td>\n",
       "      <td>0</td>\n",
       "      <td>0</td>\n",
       "      <td>0</td>\n",
       "      <td>0</td>\n",
       "      <td>...</td>\n",
       "      <td>0</td>\n",
       "      <td>0</td>\n",
       "      <td>0</td>\n",
       "      <td>0</td>\n",
       "      <td>0</td>\n",
       "      <td>0</td>\n",
       "      <td>0</td>\n",
       "      <td>0</td>\n",
       "      <td>0</td>\n",
       "      <td>9</td>\n",
       "    </tr>\n",
       "    <tr>\n",
       "      <th>1</th>\n",
       "      <td>0</td>\n",
       "      <td>0</td>\n",
       "      <td>0</td>\n",
       "      <td>0</td>\n",
       "      <td>0</td>\n",
       "      <td>1</td>\n",
       "      <td>0</td>\n",
       "      <td>0</td>\n",
       "      <td>0</td>\n",
       "      <td>0</td>\n",
       "      <td>...</td>\n",
       "      <td>114</td>\n",
       "      <td>130</td>\n",
       "      <td>76</td>\n",
       "      <td>0</td>\n",
       "      <td>0</td>\n",
       "      <td>0</td>\n",
       "      <td>0</td>\n",
       "      <td>0</td>\n",
       "      <td>0</td>\n",
       "      <td>0</td>\n",
       "    </tr>\n",
       "    <tr>\n",
       "      <th>2</th>\n",
       "      <td>0</td>\n",
       "      <td>0</td>\n",
       "      <td>0</td>\n",
       "      <td>0</td>\n",
       "      <td>0</td>\n",
       "      <td>0</td>\n",
       "      <td>0</td>\n",
       "      <td>0</td>\n",
       "      <td>0</td>\n",
       "      <td>22</td>\n",
       "      <td>...</td>\n",
       "      <td>0</td>\n",
       "      <td>1</td>\n",
       "      <td>0</td>\n",
       "      <td>0</td>\n",
       "      <td>0</td>\n",
       "      <td>0</td>\n",
       "      <td>0</td>\n",
       "      <td>0</td>\n",
       "      <td>0</td>\n",
       "      <td>0</td>\n",
       "    </tr>\n",
       "    <tr>\n",
       "      <th>3</th>\n",
       "      <td>0</td>\n",
       "      <td>0</td>\n",
       "      <td>0</td>\n",
       "      <td>0</td>\n",
       "      <td>0</td>\n",
       "      <td>0</td>\n",
       "      <td>0</td>\n",
       "      <td>0</td>\n",
       "      <td>33</td>\n",
       "      <td>96</td>\n",
       "      <td>...</td>\n",
       "      <td>0</td>\n",
       "      <td>0</td>\n",
       "      <td>0</td>\n",
       "      <td>0</td>\n",
       "      <td>0</td>\n",
       "      <td>0</td>\n",
       "      <td>0</td>\n",
       "      <td>0</td>\n",
       "      <td>0</td>\n",
       "      <td>3</td>\n",
       "    </tr>\n",
       "    <tr>\n",
       "      <th>4</th>\n",
       "      <td>0</td>\n",
       "      <td>0</td>\n",
       "      <td>0</td>\n",
       "      <td>0</td>\n",
       "      <td>0</td>\n",
       "      <td>0</td>\n",
       "      <td>0</td>\n",
       "      <td>0</td>\n",
       "      <td>0</td>\n",
       "      <td>0</td>\n",
       "      <td>...</td>\n",
       "      <td>0</td>\n",
       "      <td>0</td>\n",
       "      <td>0</td>\n",
       "      <td>0</td>\n",
       "      <td>0</td>\n",
       "      <td>0</td>\n",
       "      <td>0</td>\n",
       "      <td>0</td>\n",
       "      <td>0</td>\n",
       "      <td>0</td>\n",
       "    </tr>\n",
       "    <tr>\n",
       "      <th>...</th>\n",
       "      <td>...</td>\n",
       "      <td>...</td>\n",
       "      <td>...</td>\n",
       "      <td>...</td>\n",
       "      <td>...</td>\n",
       "      <td>...</td>\n",
       "      <td>...</td>\n",
       "      <td>...</td>\n",
       "      <td>...</td>\n",
       "      <td>...</td>\n",
       "      <td>...</td>\n",
       "      <td>...</td>\n",
       "      <td>...</td>\n",
       "      <td>...</td>\n",
       "      <td>...</td>\n",
       "      <td>...</td>\n",
       "      <td>...</td>\n",
       "      <td>...</td>\n",
       "      <td>...</td>\n",
       "      <td>...</td>\n",
       "      <td>...</td>\n",
       "    </tr>\n",
       "    <tr>\n",
       "      <th>69995</th>\n",
       "      <td>0</td>\n",
       "      <td>0</td>\n",
       "      <td>0</td>\n",
       "      <td>0</td>\n",
       "      <td>0</td>\n",
       "      <td>0</td>\n",
       "      <td>0</td>\n",
       "      <td>0</td>\n",
       "      <td>0</td>\n",
       "      <td>0</td>\n",
       "      <td>...</td>\n",
       "      <td>0</td>\n",
       "      <td>0</td>\n",
       "      <td>0</td>\n",
       "      <td>0</td>\n",
       "      <td>0</td>\n",
       "      <td>0</td>\n",
       "      <td>0</td>\n",
       "      <td>0</td>\n",
       "      <td>0</td>\n",
       "      <td>9</td>\n",
       "    </tr>\n",
       "    <tr>\n",
       "      <th>69996</th>\n",
       "      <td>0</td>\n",
       "      <td>0</td>\n",
       "      <td>0</td>\n",
       "      <td>0</td>\n",
       "      <td>0</td>\n",
       "      <td>0</td>\n",
       "      <td>0</td>\n",
       "      <td>0</td>\n",
       "      <td>0</td>\n",
       "      <td>31</td>\n",
       "      <td>...</td>\n",
       "      <td>0</td>\n",
       "      <td>0</td>\n",
       "      <td>0</td>\n",
       "      <td>0</td>\n",
       "      <td>0</td>\n",
       "      <td>0</td>\n",
       "      <td>0</td>\n",
       "      <td>0</td>\n",
       "      <td>0</td>\n",
       "      <td>1</td>\n",
       "    </tr>\n",
       "    <tr>\n",
       "      <th>69997</th>\n",
       "      <td>0</td>\n",
       "      <td>0</td>\n",
       "      <td>0</td>\n",
       "      <td>0</td>\n",
       "      <td>0</td>\n",
       "      <td>0</td>\n",
       "      <td>0</td>\n",
       "      <td>0</td>\n",
       "      <td>0</td>\n",
       "      <td>0</td>\n",
       "      <td>...</td>\n",
       "      <td>0</td>\n",
       "      <td>0</td>\n",
       "      <td>0</td>\n",
       "      <td>0</td>\n",
       "      <td>0</td>\n",
       "      <td>0</td>\n",
       "      <td>0</td>\n",
       "      <td>0</td>\n",
       "      <td>0</td>\n",
       "      <td>8</td>\n",
       "    </tr>\n",
       "    <tr>\n",
       "      <th>69998</th>\n",
       "      <td>0</td>\n",
       "      <td>0</td>\n",
       "      <td>0</td>\n",
       "      <td>0</td>\n",
       "      <td>0</td>\n",
       "      <td>0</td>\n",
       "      <td>0</td>\n",
       "      <td>0</td>\n",
       "      <td>0</td>\n",
       "      <td>0</td>\n",
       "      <td>...</td>\n",
       "      <td>0</td>\n",
       "      <td>0</td>\n",
       "      <td>0</td>\n",
       "      <td>0</td>\n",
       "      <td>0</td>\n",
       "      <td>0</td>\n",
       "      <td>0</td>\n",
       "      <td>0</td>\n",
       "      <td>0</td>\n",
       "      <td>1</td>\n",
       "    </tr>\n",
       "    <tr>\n",
       "      <th>69999</th>\n",
       "      <td>0</td>\n",
       "      <td>0</td>\n",
       "      <td>0</td>\n",
       "      <td>0</td>\n",
       "      <td>0</td>\n",
       "      <td>0</td>\n",
       "      <td>0</td>\n",
       "      <td>0</td>\n",
       "      <td>0</td>\n",
       "      <td>0</td>\n",
       "      <td>...</td>\n",
       "      <td>0</td>\n",
       "      <td>0</td>\n",
       "      <td>0</td>\n",
       "      <td>0</td>\n",
       "      <td>0</td>\n",
       "      <td>0</td>\n",
       "      <td>0</td>\n",
       "      <td>0</td>\n",
       "      <td>0</td>\n",
       "      <td>5</td>\n",
       "    </tr>\n",
       "  </tbody>\n",
       "</table>\n",
       "<p>70000 rows × 785 columns</p>\n",
       "</div>"
      ],
      "text/plain": [
       "       image_0  image_1  image_2  image_3  image_4  image_5  image_6  image_7   \n",
       "0            0        0        0        0        0        0        0        0  \\\n",
       "1            0        0        0        0        0        1        0        0   \n",
       "2            0        0        0        0        0        0        0        0   \n",
       "3            0        0        0        0        0        0        0        0   \n",
       "4            0        0        0        0        0        0        0        0   \n",
       "...        ...      ...      ...      ...      ...      ...      ...      ...   \n",
       "69995        0        0        0        0        0        0        0        0   \n",
       "69996        0        0        0        0        0        0        0        0   \n",
       "69997        0        0        0        0        0        0        0        0   \n",
       "69998        0        0        0        0        0        0        0        0   \n",
       "69999        0        0        0        0        0        0        0        0   \n",
       "\n",
       "       image_8  image_9  ...  image_775  image_776  image_777  image_778   \n",
       "0            0        0  ...          0          0          0          0  \\\n",
       "1            0        0  ...        114        130         76          0   \n",
       "2            0       22  ...          0          1          0          0   \n",
       "3           33       96  ...          0          0          0          0   \n",
       "4            0        0  ...          0          0          0          0   \n",
       "...        ...      ...  ...        ...        ...        ...        ...   \n",
       "69995        0        0  ...          0          0          0          0   \n",
       "69996        0       31  ...          0          0          0          0   \n",
       "69997        0        0  ...          0          0          0          0   \n",
       "69998        0        0  ...          0          0          0          0   \n",
       "69999        0        0  ...          0          0          0          0   \n",
       "\n",
       "       image_779  image_780  image_781  image_782  image_783  label  \n",
       "0              0          0          0          0          0      9  \n",
       "1              0          0          0          0          0      0  \n",
       "2              0          0          0          0          0      0  \n",
       "3              0          0          0          0          0      3  \n",
       "4              0          0          0          0          0      0  \n",
       "...          ...        ...        ...        ...        ...    ...  \n",
       "69995          0          0          0          0          0      9  \n",
       "69996          0          0          0          0          0      1  \n",
       "69997          0          0          0          0          0      8  \n",
       "69998          0          0          0          0          0      1  \n",
       "69999          0          0          0          0          0      5  \n",
       "\n",
       "[70000 rows x 785 columns]"
      ]
     },
     "execution_count": 9,
     "metadata": {},
     "output_type": "execute_result"
    }
   ],
   "source": [
    "df"
   ]
  },
  {
   "cell_type": "code",
   "execution_count": 10,
   "id": "b5282b9c",
   "metadata": {},
   "outputs": [],
   "source": [
    "# Shuffle the DataFrame according to your preference\n",
    "df_shuffled = df.sample(frac=1).reset_index(drop=True)\n"
   ]
  },
  {
   "cell_type": "code",
   "execution_count": 11,
   "id": "b8c6831b",
   "metadata": {},
   "outputs": [],
   "source": [
    "X = df_shuffled.drop('label', axis=1)  \n",
    "y = df_shuffled['label']\n",
    "X_train_, X_test, y_train_, y_test = train_test_split(X, y, test_size=0.1, random_state=42)\n",
    "X_train, X_validation, y_train, y_validation = train_test_split(X_train_, y_train_, test_size=0.1, random_state=42)"
   ]
  },
  {
   "cell_type": "markdown",
   "id": "ea5a7755",
   "metadata": {},
   "source": [
    "## The Labels according to their numbers in the array\n",
    "\n",
    "Label: 0    ---> Class: T-shirt/top\n",
    "\n",
    "Label: 1\t---> Class: Trouser\n",
    "\n",
    "Label: 2\t---> Class: Pullover\n",
    "\n",
    "Label: 3\t---> Class: Dress\n",
    "\n",
    "Label: 4\t---> Class: Coat\n",
    "\n",
    "Label: 5\t---> Class: Sandal\n",
    "\n",
    "Label: 6\t---> Class: Shirt\n",
    "\n",
    "Label: 7\t---> Class: Sneaker\n",
    "\n",
    "Label: 8\t---> Class: Bag\n",
    "\n",
    "Label: 9\t---> Class: Ankle boot\n"
   ]
  },
  {
   "cell_type": "code",
   "execution_count": 12,
   "id": "05d33f9d",
   "metadata": {},
   "outputs": [],
   "source": [
    "class_names = ['T-shirt/top', 'Trouser', 'Pullover', 'Dress', 'Coat',\n",
    "               'Sandal', 'Shirt', 'Sneaker', 'Bag', 'Ankle boot']\n"
   ]
  },
  {
   "cell_type": "code",
   "execution_count": 13,
   "id": "4da4dda1",
   "metadata": {},
   "outputs": [
    {
     "data": {
      "image/png": "[encoded data removed]",
      "text/plain": [
       "<Figure size 1000x1000 with 25 Axes>"
      ]
     },
     "metadata": {},
     "output_type": "display_data"
    }
   ],
   "source": [
    "# Show the first 25 images\n",
    "\n",
    "utils.plot_multi_images(train_images, train_labels, class_names)\n"
   ]
  },
  {
   "cell_type": "markdown",
   "id": "d84d9812",
   "metadata": {},
   "source": [
    "Explore the Data"
   ]
  },
  {
   "cell_type": "code",
   "execution_count": 14,
   "id": "8dc8b2fe",
   "metadata": {},
   "outputs": [
    {
     "data": {
      "text/plain": [
       "(56700, 784)"
      ]
     },
     "execution_count": 14,
     "metadata": {},
     "output_type": "execute_result"
    }
   ],
   "source": [
    "X_train.shape\n"
   ]
  },
  {
   "cell_type": "code",
   "execution_count": 15,
   "id": "925972b6",
   "metadata": {},
   "outputs": [
    {
     "data": {
      "text/plain": [
       "56700"
      ]
     },
     "execution_count": 15,
     "metadata": {},
     "output_type": "execute_result"
    }
   ],
   "source": [
    "len(y_train)\n"
   ]
  },
  {
   "cell_type": "code",
   "execution_count": 16,
   "id": "a7b11fc8",
   "metadata": {},
   "outputs": [
    {
     "data": {
      "text/plain": [
       "(7000, 784)"
      ]
     },
     "execution_count": 16,
     "metadata": {},
     "output_type": "execute_result"
    }
   ],
   "source": [
    "X_test.shape\n"
   ]
  },
  {
   "cell_type": "code",
   "execution_count": 17,
   "id": "fb24372a",
   "metadata": {},
   "outputs": [
    {
     "data": {
      "text/plain": [
       "7000"
      ]
     },
     "execution_count": 17,
     "metadata": {},
     "output_type": "execute_result"
    }
   ],
   "source": [
    "len(y_test)\n"
   ]
  },
  {
   "cell_type": "markdown",
   "id": "d0d88cbc",
   "metadata": {},
   "source": [
    "Preprocess the data"
   ]
  },
  {
   "cell_type": "code",
   "execution_count": 18,
   "id": "8a871390",
   "metadata": {},
   "outputs": [],
   "source": [
    "# To transform the images to be in scale from 0-1\n",
    "train_images = X_train / 255.0\n",
    "\n",
    "test_images = X_test / 255.0\n"
   ]
  },
  {
   "cell_type": "markdown",
   "id": "b328d551",
   "metadata": {},
   "source": [
    "Build the model"
   ]
  },
  {
   "cell_type": "code",
   "execution_count": 19,
   "id": "ab9d033b",
   "metadata": {},
   "outputs": [],
   "source": [
    "# print(train_images.shape)\n",
    "# X_train = []\n",
    "# X_test = []\n",
    "# for i in range(len(train_images)):\n",
    "#     temp = train_images[i].reshape(-1, 784)\n",
    "#     X_train.append(temp[0])\n",
    "# X_train = np.array(X_train)\n",
    "# for i in range(len(test_images)):\n",
    "#     temp = test_images[i].reshape(-1, 784)\n",
    "#     X_test.append(temp[0])\n",
    "# X_test = np.array(X_test)\n",
    "# print(X_test.shape)\n",
    "\n",
    "# y_train = train_labels.copy()\n",
    "# y_test = test_labels.copy()\n"
   ]
  },
  {
   "cell_type": "code",
   "execution_count": 20,
   "id": "5d940dab",
   "metadata": {},
   "outputs": [],
   "source": [
    "# X_train_ = X_train\n",
    "# X_test_ = X_test\n",
    "# y_train_ = y_train\n",
    "# y_test_ = y_test"
   ]
  },
  {
   "cell_type": "markdown",
   "id": "5af1a35f",
   "metadata": {},
   "source": [
    "### Best K for Knn algorithm"
   ]
  },
  {
   "cell_type": "code",
   "execution_count": 21,
   "id": "e641c8bd",
   "metadata": {},
   "outputs": [],
   "source": [
    "best_k = 3"
   ]
  },
  {
   "cell_type": "code",
   "execution_count": 22,
   "id": "0cddc458",
   "metadata": {},
   "outputs": [
    {
     "name": "stdout",
     "output_type": "stream",
     "text": [
      "1\n"
     ]
    },
    {
     "name": "stdout",
     "output_type": "stream",
     "text": [
      "2\n",
      "3\n",
      "4\n",
      "5\n",
      "6\n",
      "7\n",
      "8\n",
      "9\n",
      "10\n",
      "11\n",
      "12\n",
      "13\n",
      "14\n",
      "15\n",
      "16\n",
      "17\n",
      "18\n",
      "19\n",
      "20\n",
      "21\n",
      "22\n",
      "23\n",
      "24\n",
      "25\n",
      "26\n",
      "27\n",
      "28\n",
      "29\n",
      "30\n",
      "31\n",
      "32\n",
      "33\n",
      "34\n",
      "35\n",
      "36\n",
      "37\n",
      "38\n",
      "39\n",
      "40\n",
      "41\n",
      "42\n",
      "43\n",
      "44\n",
      "45\n",
      "46\n",
      "47\n",
      "48\n",
      "49\n",
      "The best accuracy of the knn model is when k = 5 , and the score is: 0.8622857142857143\n"
     ]
    },
    {
     "data": {
      "image/png": "[encoded data removed]",
      "text/plain": [
       "<Figure size 1200x600 with 1 Axes>"
      ]
     },
     "metadata": {},
     "output_type": "display_data"
    }
   ],
   "source": [
    "k_range = range(1,50)\n",
    "scores = []\n",
    "for k in k_range:\n",
    "    print(k)\n",
    "    knn_ = KNeighborsClassifier(n_neighbors=k)\n",
    "    knn_.fit(X_train, y_train)\n",
    "    y_pred = knn_.predict(X_test)\n",
    "    scores.append(metrics.accuracy_score(y_test, y_pred))\n",
    "\n",
    "plt.figure(figsize=(12, 6))\n",
    "plt.plot(k_range, scores,color='red', linestyle='dashed', marker='o',\n",
    "         markerfacecolor='blue', markersize=10)\n",
    "plt.xlabel('Value of K for KNN')\n",
    "plt.ylabel('Testing Accuracy')\n",
    "\n",
    "# Finding the maximum k - the number of nearest neighbors:\n",
    "max_score = max(scores)\n",
    "best_k = scores.index(max_score)\n",
    "print(\"The best accuracy of the knn model is when k =\",best_k, \", and the score is:\",max_score) "
   ]
  },
  {
   "cell_type": "code",
   "execution_count": 23,
   "id": "0f4148ba",
   "metadata": {},
   "outputs": [
    {
     "data": {
      "text/plain": [
       "5"
      ]
     },
     "execution_count": 23,
     "metadata": {},
     "output_type": "execute_result"
    }
   ],
   "source": [
    "best_k"
   ]
  },
  {
   "cell_type": "markdown",
   "id": "48fd3ccd",
   "metadata": {},
   "source": [
    "## Training Our Models"
   ]
  },
  {
   "cell_type": "code",
   "execution_count": 24,
   "id": "9322212a",
   "metadata": {},
   "outputs": [],
   "source": [
    "knn = KNeighborsClassifier(n_neighbors=best_k)\n",
    "log_reg = LogisticRegression(max_iter=100000, random_state=42)\n",
    "randomForest = RandomForestClassifier()\n",
    "clf = SGDClassifier(random_state=42)\n",
    "sgd_clf = CalibratedClassifierCV(clf, cv=5, method='sigmoid')\n",
    "gnb = GaussianNB()"
   ]
  },
  {
   "cell_type": "markdown",
   "id": "96f9aca7",
   "metadata": {},
   "source": [
    "### Fit the data"
   ]
  },
  {
   "cell_type": "code",
   "execution_count": 25,
   "id": "48ea1a76",
   "metadata": {},
   "outputs": [
    {
     "data": {
      "text/plain": [
       "0.8562857142857143"
      ]
     },
     "execution_count": 25,
     "metadata": {},
     "output_type": "execute_result"
    }
   ],
   "source": [
    "knn.fit(X_train, y_train)\n",
    "knn_predict = knn.predict(X_test)\n",
    "knn.score(X_test, y_test)"
   ]
  },
  {
   "cell_type": "code",
   "execution_count": 26,
   "id": "c3e97968",
   "metadata": {},
   "outputs": [
    {
     "name": "stdout",
     "output_type": "stream",
     "text": [
      "MSE:  1.871\n",
      "RMSE:  1.367845020461017\n",
      "MAE:  4.363206553507572\n",
      "R2 Score:  0.7738548958053187\n"
     ]
    }
   ],
   "source": [
    "# MSE\n",
    "knn_mse = mean_squared_error(y_test, knn_predict)\n",
    "print(\"MSE: \", knn_mse)\n",
    "\n",
    "# RMSE\n",
    "print(\"RMSE: \", np.sqrt(mean_squared_error(y_test, knn_predict)))\n",
    "\n",
    "# MAE\n",
    "print(\"MAE: \", np.sqrt(mean_absolute_error(y_test, knn_predict)))\n",
    "      \n",
    "# R2 Score\n",
    "print(\"R2 Score: \", r2_score(y_test, knn_predict))"
   ]
  },
  {
   "cell_type": "code",
   "execution_count": 27,
   "id": "4cff0e5d",
   "metadata": {},
   "outputs": [
    {
     "name": "stderr",
     "output_type": "stream",
     "text": [
      "c:\\Users\\moria\\AppData\\Local\\Programs\\Python\\Python39\\lib\\site-packages\\sklearn\\linear_model\\_logistic.py:458: ConvergenceWarning: lbfgs failed to converge (status=1):\n",
      "STOP: TOTAL NO. of f AND g EVALUATIONS EXCEEDS LIMIT.\n",
      "\n",
      "Increase the number of iterations (max_iter) or scale the data as shown in:\n",
      "    https://scikit-learn.org/stable/modules/preprocessing.html\n",
      "Please also refer to the documentation for alternative solver options:\n",
      "    https://scikit-learn.org/stable/modules/linear_model.html#logistic-regression\n",
      "  n_iter_i = _check_optimize_result(\n"
     ]
    },
    {
     "data": {
      "text/plain": [
       "0.8405714285714285"
      ]
     },
     "execution_count": 27,
     "metadata": {},
     "output_type": "execute_result"
    }
   ],
   "source": [
    "log_reg.fit(X_train, y_train)\n",
    "log_reg_predict = log_reg.predict(X_test)\n",
    "log_reg.score(X_test, y_test)"
   ]
  },
  {
   "cell_type": "code",
   "execution_count": 28,
   "id": "2354e7d8",
   "metadata": {},
   "outputs": [
    {
     "name": "stdout",
     "output_type": "stream",
     "text": [
      "MSE:  2.043285714285714\n",
      "RMSE:  1.4294354529973412\n",
      "MAE:  4.5200663711941225\n",
      "R2 Score:  0.7530309669927062\n"
     ]
    }
   ],
   "source": [
    "# MSE\n",
    "log_reg_mse = mean_squared_error(y_test, log_reg_predict)\n",
    "print(\"MSE: \", log_reg_mse)\n",
    "\n",
    "# RMSE\n",
    "print(\"RMSE: \", np.sqrt(mean_squared_error(y_test, log_reg_predict)))\n",
    "\n",
    "# MAE\n",
    "print(\"MAE: \", np.sqrt(mean_absolute_error(y_test, log_reg_predict)))\n",
    "      \n",
    "# R2 Score\n",
    "print(\"R2 Score: \", r2_score(y_test, log_reg_predict))"
   ]
  },
  {
   "cell_type": "code",
   "execution_count": 29,
   "id": "65390659",
   "metadata": {},
   "outputs": [],
   "source": [
    "randomForest.fit(X_train, y_train)\n",
    "randomForest_predict = randomForest.predict(X_test)"
   ]
  },
  {
   "cell_type": "code",
   "execution_count": 30,
   "id": "25d11186",
   "metadata": {},
   "outputs": [
    {
     "name": "stdout",
     "output_type": "stream",
     "text": [
      "MSE:  1.6214285714285714\n",
      "RMSE:  1.2733532783279633\n",
      "MAE:  3.9573078872240552\n",
      "R2 Score:  0.8040202387867732\n"
     ]
    }
   ],
   "source": [
    "# MSE\n",
    "random_forest_mse = mean_squared_error(y_test, randomForest_predict)\n",
    "print(\"MSE: \", random_forest_mse)\n",
    "\n",
    "# RMSE\n",
    "print(\"RMSE: \", np.sqrt(mean_squared_error(y_test, randomForest_predict)))\n",
    "\n",
    "# MAE\n",
    "print(\"MAE: \", np.sqrt(mean_absolute_error(y_test, randomForest_predict)))\n",
    "      \n",
    "# R2 Score\n",
    "print(\"R2 Score: \", r2_score(y_test, randomForest_predict))"
   ]
  },
  {
   "cell_type": "code",
   "execution_count": 31,
   "id": "812a54fe",
   "metadata": {},
   "outputs": [],
   "source": [
    "sgd_clf.fit(X_train, y_train)\n",
    "sgd_clf_predict = sgd_clf.predict(X_test)"
   ]
  },
  {
   "cell_type": "code",
   "execution_count": 32,
   "id": "8280a955",
   "metadata": {},
   "outputs": [
    {
     "name": "stdout",
     "output_type": "stream",
     "text": [
      "MSE:  2.692285714285714\n",
      "RMSE:  1.6408186110249097\n",
      "MAE:  4.969564510957819\n",
      "R2 Score:  0.6745872616894737\n"
     ]
    }
   ],
   "source": [
    "# MSE\n",
    "sgd_clf_mse = mean_squared_error(y_test, sgd_clf_predict)\n",
    "print(\"MSE: \", sgd_clf_mse)\n",
    "\n",
    "# RMSE\n",
    "print(\"RMSE: \", np.sqrt(mean_squared_error(y_test, sgd_clf_predict)))\n",
    "\n",
    "# MAE\n",
    "print(\"MAE: \", np.sqrt(mean_absolute_error(y_test, sgd_clf_predict)))\n",
    "      \n",
    "# R2 Score\n",
    "print(\"R2 Score: \", r2_score(y_test, sgd_clf_predict))"
   ]
  },
  {
   "cell_type": "code",
   "execution_count": 33,
   "id": "a21a54ad",
   "metadata": {},
   "outputs": [
    {
     "data": {
      "text/plain": [
       "0.602"
      ]
     },
     "execution_count": 33,
     "metadata": {},
     "output_type": "execute_result"
    }
   ],
   "source": [
    "gnb.fit(X_train, y_train)\n",
    "gnb_predict = gnb.predict(X_test)\n",
    "gnb.score(X_test, y_test)"
   ]
  },
  {
   "cell_type": "code",
   "execution_count": 34,
   "id": "db2ccbcb",
   "metadata": {},
   "outputs": [
    {
     "name": "stdout",
     "output_type": "stream",
     "text": [
      "MSE:  3.2214285714285715\n",
      "RMSE:  1.7948338562186115\n",
      "MAE:  7.160087788767477\n",
      "R2 Score:  0.6106305184706373\n"
     ]
    }
   ],
   "source": [
    "# MSE\n",
    "gnb_mse = mean_squared_error(y_test, gnb_predict)\n",
    "print(\"MSE: \", gnb_mse)\n",
    "\n",
    "# RMSE\n",
    "print(\"RMSE: \", np.sqrt(mean_squared_error(y_test, gnb_predict)))\n",
    "\n",
    "# MAE\n",
    "print(\"MAE: \", np.sqrt(mean_absolute_error(y_test, gnb_predict)))\n",
    "      \n",
    "# R2 Score\n",
    "print(\"R2 Score: \", r2_score(y_test, gnb_predict))"
   ]
  },
  {
   "cell_type": "markdown",
   "id": "658fe860",
   "metadata": {},
   "source": [
    "### Adding the neural network"
   ]
  },
  {
   "cell_type": "code",
   "execution_count": 35,
   "id": "3a7a3824",
   "metadata": {},
   "outputs": [],
   "source": [
    "np.random.seed(42) #random seed is used to replicate the same result every time\n",
    "tf.random.set_seed(42)\n"
   ]
  },
  {
   "cell_type": "code",
   "execution_count": 62,
   "id": "b1dafcbc",
   "metadata": {},
   "outputs": [],
   "source": [
    "model = keras.models.Sequential() # USING SEQUENTIAL API\n",
    "model.add(keras.layers.Flatten(input_shape=[28,28])) # input layer, converting 2D to 28*28 pixel using flatten\n",
    "model.add(keras.layers.Dense(300,activation=\"relu\")) # 1st hidden layer, 300=no. of neurons, relu=activation function\n",
    "model.add(keras.layers.Dense(100,activation=\"relu\")) # 2nd hidden layer\n",
    "model.add(keras.layers.Dense(10,activation=\"softmax\")) # output layer, categories=10\n",
    "#relu = 0 for all negative numbers or relu = output for the positive numbers"
   ]
  },
  {
   "cell_type": "code",
   "execution_count": 74,
   "id": "9119eaf2",
   "metadata": {},
   "outputs": [],
   "source": [
    "model.compile(optimizer='adam',\n",
    "              loss='sparse_categorical_crossentropy',\n",
    "              metrics=['accuracy'])"
   ]
  },
  {
   "cell_type": "code",
   "execution_count": 75,
   "id": "16be0ce3",
   "metadata": {},
   "outputs": [
    {
     "name": "stdout",
     "output_type": "stream",
     "text": [
      "Model: \"sequential_1\"\n",
      "_________________________________________________________________\n",
      " Layer (type)                Output Shape              Param #   \n",
      "=================================================================\n",
      " flatten_1 (Flatten)         (None, 784)               0         \n",
      "                                                                 \n",
      " dense_3 (Dense)             (None, 300)               235500    \n",
      "                                                                 \n",
      " dense_4 (Dense)             (None, 100)               30100     \n",
      "                                                                 \n",
      " dense_5 (Dense)             (None, 10)                1010      \n",
      "                                                                 \n",
      "=================================================================\n",
      "Total params: 266,610\n",
      "Trainable params: 266,610\n",
      "Non-trainable params: 0\n",
      "_________________________________________________________________\n"
     ]
    }
   ],
   "source": [
    "model.summary() \n",
    "# param\n",
    "# dense = 784*300+300 = 235500\n",
    "# dense_1 = 300*100+100 = 30100\n",
    "# dense_2 = 100*10+10 = 1010\n",
    "# none  = no limit on input data"
   ]
  },
  {
   "cell_type": "code",
   "execution_count": 64,
   "id": "82b93a03",
   "metadata": {},
   "outputs": [
    {
     "name": "stdout",
     "output_type": "stream",
     "text": [
      "You must install pydot (`pip install pydot`) and install graphviz (see instructions at https://graphviz.gitlab.io/download/) for plot_model to work.\n"
     ]
    }
   ],
   "source": [
    "# import pydot \n",
    "# import graphviz\n",
    "from IPython.display import display\n",
    "\n",
    "keras.utils.plot_model(model, show_shapes=True)\n"
   ]
  },
  {
   "cell_type": "code",
   "execution_count": 65,
   "id": "c572275f",
   "metadata": {},
   "outputs": [],
   "source": [
    "weights, biases = model.layers[1].get_weights()"
   ]
  },
  {
   "cell_type": "code",
   "execution_count": 66,
   "id": "3aa31c27",
   "metadata": {},
   "outputs": [
    {
     "data": {
      "text/plain": [
       "array([[-0.06769496, -0.0598982 , -0.05429435, ...,  0.07011454,\n",
       "        -0.03216371, -0.01520686],\n",
       "       [ 0.07162724, -0.02451283,  0.03368378, ..., -0.04902028,\n",
       "        -0.00552334,  0.0579741 ],\n",
       "       [ 0.05640934, -0.03654929, -0.05458285, ...,  0.05428344,\n",
       "        -0.060597  ,  0.02395389],\n",
       "       ...,\n",
       "       [-0.04722395,  0.0325816 ,  0.04883258, ..., -0.05503178,\n",
       "         0.00155792, -0.04655927],\n",
       "       [ 0.07394874, -0.0387623 ,  0.01438469, ...,  0.06372315,\n",
       "         0.02176867,  0.05161749],\n",
       "       [ 0.0278377 , -0.02172751,  0.00488935, ...,  0.04362301,\n",
       "        -0.06585388,  0.06416127]], dtype=float32)"
      ]
     },
     "execution_count": 66,
     "metadata": {},
     "output_type": "execute_result"
    }
   ],
   "source": [
    "weights"
   ]
  },
  {
   "cell_type": "code",
   "execution_count": 67,
   "id": "f539e09d",
   "metadata": {},
   "outputs": [
    {
     "data": {
      "text/plain": [
       "array([0., 0., 0., 0., 0., 0., 0., 0., 0., 0., 0., 0., 0., 0., 0., 0., 0.,\n",
       "       0., 0., 0., 0., 0., 0., 0., 0., 0., 0., 0., 0., 0., 0., 0., 0., 0.,\n",
       "       0., 0., 0., 0., 0., 0., 0., 0., 0., 0., 0., 0., 0., 0., 0., 0., 0.,\n",
       "       0., 0., 0., 0., 0., 0., 0., 0., 0., 0., 0., 0., 0., 0., 0., 0., 0.,\n",
       "       0., 0., 0., 0., 0., 0., 0., 0., 0., 0., 0., 0., 0., 0., 0., 0., 0.,\n",
       "       0., 0., 0., 0., 0., 0., 0., 0., 0., 0., 0., 0., 0., 0., 0., 0., 0.,\n",
       "       0., 0., 0., 0., 0., 0., 0., 0., 0., 0., 0., 0., 0., 0., 0., 0., 0.,\n",
       "       0., 0., 0., 0., 0., 0., 0., 0., 0., 0., 0., 0., 0., 0., 0., 0., 0.,\n",
       "       0., 0., 0., 0., 0., 0., 0., 0., 0., 0., 0., 0., 0., 0., 0., 0., 0.,\n",
       "       0., 0., 0., 0., 0., 0., 0., 0., 0., 0., 0., 0., 0., 0., 0., 0., 0.,\n",
       "       0., 0., 0., 0., 0., 0., 0., 0., 0., 0., 0., 0., 0., 0., 0., 0., 0.,\n",
       "       0., 0., 0., 0., 0., 0., 0., 0., 0., 0., 0., 0., 0., 0., 0., 0., 0.,\n",
       "       0., 0., 0., 0., 0., 0., 0., 0., 0., 0., 0., 0., 0., 0., 0., 0., 0.,\n",
       "       0., 0., 0., 0., 0., 0., 0., 0., 0., 0., 0., 0., 0., 0., 0., 0., 0.,\n",
       "       0., 0., 0., 0., 0., 0., 0., 0., 0., 0., 0., 0., 0., 0., 0., 0., 0.,\n",
       "       0., 0., 0., 0., 0., 0., 0., 0., 0., 0., 0., 0., 0., 0., 0., 0., 0.,\n",
       "       0., 0., 0., 0., 0., 0., 0., 0., 0., 0., 0., 0., 0., 0., 0., 0., 0.,\n",
       "       0., 0., 0., 0., 0., 0., 0., 0., 0., 0., 0.], dtype=float32)"
      ]
     },
     "execution_count": 67,
     "metadata": {},
     "output_type": "execute_result"
    }
   ],
   "source": [
    "biases"
   ]
  },
  {
   "cell_type": "code",
   "execution_count": 68,
   "id": "3813cc81",
   "metadata": {},
   "outputs": [
    {
     "data": {
      "text/plain": [
       "(300,)"
      ]
     },
     "execution_count": 68,
     "metadata": {},
     "output_type": "execute_result"
    }
   ],
   "source": [
    "biases.shape"
   ]
  },
  {
   "cell_type": "code",
   "execution_count": 69,
   "id": "f1bafbad",
   "metadata": {},
   "outputs": [],
   "source": [
    "model.compile(loss=\"sparse_categorical_crossentropy\",optimizer=\"sgd\",metrics=[\"accuracy\"])\n",
    "# scc = for categorical data\n",
    "# sgd = stocashtic gradient descent\n",
    "# for binary labels = binary_cross_entropy"
   ]
  },
  {
   "cell_type": "code",
   "execution_count": 88,
   "id": "b26ed3d1",
   "metadata": {},
   "outputs": [],
   "source": [
    "X_train_shaped = X_train.values.reshape(-1, 28, 28)\n",
    "X_validation_shaped = X_validation.values.reshape(-1, 28, 28)\n",
    "X_test_shaped = X_test.values.reshape(-1, 28, 28)"
   ]
  },
  {
   "cell_type": "code",
   "execution_count": 80,
   "id": "5f54bcb9",
   "metadata": {},
   "outputs": [],
   "source": [
    "def train_model(X_train, y_train, X_validation, y_validation):\n",
    "    return model.fit(X_train, y_train, epochs=30, validation_data=(X_validation, y_validation))\n",
    "\n",
    "# # Call the function to train the model\n",
    "# train_model(X_train_shaped, y_train, X_validation_shaped, y_validation)"
   ]
  },
  {
   "cell_type": "code",
   "execution_count": 81,
   "id": "63ac1cf6",
   "metadata": {},
   "outputs": [
    {
     "name": "stdout",
     "output_type": "stream",
     "text": [
      "Epoch 1/30\n",
      "1772/1772 [==============================] - 8s 4ms/step - loss: 0.4028 - accuracy: 0.8723 - val_loss: 0.5552 - val_accuracy: 0.8489\n",
      "Epoch 2/30\n",
      "1772/1772 [==============================] - 7s 4ms/step - loss: 0.3805 - accuracy: 0.8779 - val_loss: 0.5489 - val_accuracy: 0.8544\n",
      "Epoch 3/30\n",
      "1772/1772 [==============================] - 5s 3ms/step - loss: 0.3835 - accuracy: 0.8769 - val_loss: 0.5107 - val_accuracy: 0.8594\n",
      "Epoch 4/30\n",
      "1772/1772 [==============================] - 5s 3ms/step - loss: 0.3718 - accuracy: 0.8799 - val_loss: 0.5803 - val_accuracy: 0.8530\n",
      "Epoch 5/30\n",
      "1772/1772 [==============================] - 5s 3ms/step - loss: 0.3734 - accuracy: 0.8806 - val_loss: 0.5725 - val_accuracy: 0.8383\n",
      "Epoch 6/30\n",
      "1772/1772 [==============================] - 5s 3ms/step - loss: 0.3727 - accuracy: 0.8796 - val_loss: 0.5380 - val_accuracy: 0.8584\n",
      "Epoch 7/30\n",
      "1772/1772 [==============================] - 5s 3ms/step - loss: 0.3658 - accuracy: 0.8832 - val_loss: 0.5404 - val_accuracy: 0.8598\n",
      "Epoch 8/30\n",
      "1772/1772 [==============================] - 5s 3ms/step - loss: 0.3555 - accuracy: 0.8850 - val_loss: 0.5971 - val_accuracy: 0.8525\n",
      "Epoch 9/30\n",
      "1772/1772 [==============================] - 5s 3ms/step - loss: 0.3562 - accuracy: 0.8850 - val_loss: 0.5427 - val_accuracy: 0.8584\n",
      "Epoch 10/30\n",
      "1772/1772 [==============================] - 5s 3ms/step - loss: 0.3526 - accuracy: 0.8848 - val_loss: 0.5913 - val_accuracy: 0.8546\n",
      "Epoch 11/30\n",
      "1772/1772 [==============================] - 5s 3ms/step - loss: 0.3519 - accuracy: 0.8858 - val_loss: 0.5718 - val_accuracy: 0.8565\n",
      "Epoch 12/30\n",
      "1772/1772 [==============================] - 5s 3ms/step - loss: 0.3361 - accuracy: 0.8886 - val_loss: 0.6489 - val_accuracy: 0.8567\n",
      "Epoch 13/30\n",
      "1772/1772 [==============================] - 5s 3ms/step - loss: 0.3365 - accuracy: 0.8902 - val_loss: 0.6666 - val_accuracy: 0.8448\n",
      "Epoch 14/30\n",
      "1772/1772 [==============================] - 5s 3ms/step - loss: 0.3362 - accuracy: 0.8884 - val_loss: 0.6139 - val_accuracy: 0.8603\n",
      "Epoch 15/30\n",
      "1772/1772 [==============================] - 5s 3ms/step - loss: 0.3167 - accuracy: 0.8944 - val_loss: 0.5588 - val_accuracy: 0.8581\n",
      "Epoch 16/30\n",
      "1772/1772 [==============================] - 5s 3ms/step - loss: 0.3350 - accuracy: 0.8898 - val_loss: 0.5811 - val_accuracy: 0.8663\n",
      "Epoch 17/30\n",
      "1772/1772 [==============================] - 6s 3ms/step - loss: 0.3210 - accuracy: 0.8944 - val_loss: 0.5705 - val_accuracy: 0.8559\n",
      "Epoch 18/30\n",
      "1772/1772 [==============================] - 5s 3ms/step - loss: 0.3196 - accuracy: 0.8937 - val_loss: 0.5267 - val_accuracy: 0.8648\n",
      "Epoch 19/30\n",
      "1772/1772 [==============================] - 5s 3ms/step - loss: 0.3224 - accuracy: 0.8935 - val_loss: 0.5351 - val_accuracy: 0.8633\n",
      "Epoch 20/30\n",
      "1772/1772 [==============================] - 6s 3ms/step - loss: 0.3139 - accuracy: 0.8943 - val_loss: 0.5614 - val_accuracy: 0.8563\n",
      "Epoch 21/30\n",
      "1772/1772 [==============================] - 5s 3ms/step - loss: 0.3107 - accuracy: 0.8967 - val_loss: 0.5664 - val_accuracy: 0.8568\n",
      "Epoch 22/30\n",
      "1772/1772 [==============================] - 5s 3ms/step - loss: 0.3098 - accuracy: 0.8968 - val_loss: 0.5130 - val_accuracy: 0.8679\n",
      "Epoch 23/30\n",
      "1772/1772 [==============================] - 7s 4ms/step - loss: 0.2976 - accuracy: 0.9010 - val_loss: 0.5413 - val_accuracy: 0.8617\n",
      "Epoch 24/30\n",
      "1772/1772 [==============================] - 7s 4ms/step - loss: 0.3071 - accuracy: 0.8992 - val_loss: 0.5349 - val_accuracy: 0.8678\n",
      "Epoch 25/30\n",
      "1772/1772 [==============================] - 6s 3ms/step - loss: 0.3044 - accuracy: 0.8992 - val_loss: 0.6237 - val_accuracy: 0.8679\n",
      "Epoch 26/30\n",
      "1772/1772 [==============================] - 6s 3ms/step - loss: 0.2967 - accuracy: 0.9012 - val_loss: 0.5919 - val_accuracy: 0.8535\n",
      "Epoch 27/30\n",
      "1772/1772 [==============================] - 6s 3ms/step - loss: 0.3048 - accuracy: 0.8989 - val_loss: 0.6230 - val_accuracy: 0.8671\n",
      "Epoch 28/30\n",
      "1772/1772 [==============================] - 5s 3ms/step - loss: 0.2899 - accuracy: 0.9018 - val_loss: 0.7764 - val_accuracy: 0.8665\n",
      "Epoch 29/30\n",
      "1772/1772 [==============================] - 6s 3ms/step - loss: 0.3056 - accuracy: 0.9001 - val_loss: 0.8313 - val_accuracy: 0.8592\n",
      "Epoch 30/30\n",
      "1772/1772 [==============================] - 6s 3ms/step - loss: 0.2890 - accuracy: 0.9035 - val_loss: 0.8300 - val_accuracy: 0.8646\n"
     ]
    }
   ],
   "source": [
    "model_history = train_model(X_train_shaped, y_train, X_validation_shaped, y_validation)\n",
    "# by default epochs = 1"
   ]
  },
  {
   "cell_type": "code",
   "execution_count": 82,
   "id": "78747542",
   "metadata": {},
   "outputs": [
    {
     "data": {
      "text/plain": [
       "{'verbose': 1, 'epochs': 30, 'steps': 1772}"
      ]
     },
     "execution_count": 82,
     "metadata": {},
     "output_type": "execute_result"
    }
   ],
   "source": [
    "model_history.params"
   ]
  },
  {
   "cell_type": "code",
   "execution_count": 83,
   "id": "6c455e81",
   "metadata": {},
   "outputs": [
    {
     "data": {
      "text/plain": [
       "{'loss': [0.4028465449810028,\n",
       "  0.3805255591869354,\n",
       "  0.3835446238517761,\n",
       "  0.3718331456184387,\n",
       "  0.373447984457016,\n",
       "  0.37266433238983154,\n",
       "  0.36575785279273987,\n",
       "  0.3555430471897125,\n",
       "  0.35623010993003845,\n",
       "  0.3525700569152832,\n",
       "  0.3518809974193573,\n",
       "  0.33606550097465515,\n",
       "  0.3365451693534851,\n",
       "  0.33621227741241455,\n",
       "  0.3166847825050354,\n",
       "  0.33499258756637573,\n",
       "  0.32097873091697693,\n",
       "  0.31962695717811584,\n",
       "  0.3223775327205658,\n",
       "  0.3138814866542816,\n",
       "  0.31068310141563416,\n",
       "  0.3098257780075073,\n",
       "  0.29762375354766846,\n",
       "  0.30712831020355225,\n",
       "  0.30444905161857605,\n",
       "  0.296726256608963,\n",
       "  0.3048263192176819,\n",
       "  0.2899012863636017,\n",
       "  0.3055577278137207,\n",
       "  0.2889544665813446],\n",
       " 'accuracy': [0.8722751140594482,\n",
       "  0.8778659701347351,\n",
       "  0.8769311904907227,\n",
       "  0.8798589110374451,\n",
       "  0.8805820345878601,\n",
       "  0.8796472549438477,\n",
       "  0.8831745982170105,\n",
       "  0.8850440979003906,\n",
       "  0.8850264549255371,\n",
       "  0.8848324418067932,\n",
       "  0.885837733745575,\n",
       "  0.8885537981987,\n",
       "  0.8901587128639221,\n",
       "  0.8884127140045166,\n",
       "  0.8943915367126465,\n",
       "  0.8897883892059326,\n",
       "  0.894373893737793,\n",
       "  0.8937036991119385,\n",
       "  0.8934568166732788,\n",
       "  0.8942504525184631,\n",
       "  0.8967019319534302,\n",
       "  0.8968077898025513,\n",
       "  0.9009523987770081,\n",
       "  0.8991710543632507,\n",
       "  0.8991534113883972,\n",
       "  0.9011992812156677,\n",
       "  0.8988712430000305,\n",
       "  0.9018341898918152,\n",
       "  0.9001234769821167,\n",
       "  0.9034920930862427],\n",
       " 'val_loss': [0.5552200675010681,\n",
       "  0.5489001870155334,\n",
       "  0.5107183456420898,\n",
       "  0.5802514553070068,\n",
       "  0.5725416541099548,\n",
       "  0.5380182862281799,\n",
       "  0.5403810143470764,\n",
       "  0.5971457958221436,\n",
       "  0.5427281856536865,\n",
       "  0.5913150906562805,\n",
       "  0.571807861328125,\n",
       "  0.6489479541778564,\n",
       "  0.6665894985198975,\n",
       "  0.6139131784439087,\n",
       "  0.5587641596794128,\n",
       "  0.5810897350311279,\n",
       "  0.5704555511474609,\n",
       "  0.5266890525817871,\n",
       "  0.5350942611694336,\n",
       "  0.561384916305542,\n",
       "  0.566417932510376,\n",
       "  0.5130059719085693,\n",
       "  0.5413187742233276,\n",
       "  0.5349078178405762,\n",
       "  0.6237243413925171,\n",
       "  0.5918546319007874,\n",
       "  0.6230069398880005,\n",
       "  0.7764124274253845,\n",
       "  0.8313217759132385,\n",
       "  0.8300051689147949],\n",
       " 'val_accuracy': [0.8488888740539551,\n",
       "  0.8544444441795349,\n",
       "  0.8593651056289673,\n",
       "  0.8530158996582031,\n",
       "  0.8382539749145508,\n",
       "  0.8584126830101013,\n",
       "  0.8598412871360779,\n",
       "  0.8525396585464478,\n",
       "  0.8584126830101013,\n",
       "  0.8546031713485718,\n",
       "  0.8565079569816589,\n",
       "  0.8566666841506958,\n",
       "  0.8447619080543518,\n",
       "  0.8603174686431885,\n",
       "  0.8580952286720276,\n",
       "  0.8663492202758789,\n",
       "  0.8558729887008667,\n",
       "  0.8647618889808655,\n",
       "  0.8633333444595337,\n",
       "  0.8563492298126221,\n",
       "  0.8568254113197327,\n",
       "  0.8679364919662476,\n",
       "  0.8617460131645203,\n",
       "  0.8677777647972107,\n",
       "  0.8679364919662476,\n",
       "  0.8534920811653137,\n",
       "  0.8671428561210632,\n",
       "  0.8665079474449158,\n",
       "  0.8592063784599304,\n",
       "  0.8646031618118286]}"
      ]
     },
     "execution_count": 83,
     "metadata": {},
     "output_type": "execute_result"
    }
   ],
   "source": [
    "model_history.history"
   ]
  },
  {
   "cell_type": "code",
   "execution_count": 84,
   "id": "33d7623d",
   "metadata": {},
   "outputs": [
    {
     "data": {
      "image/png": "[encoded data removed]",
      "text/plain": [
       "<Figure size 800x500 with 1 Axes>"
      ]
     },
     "metadata": {},
     "output_type": "display_data"
    }
   ],
   "source": [
    "pd.DataFrame(model_history.history).plot(figsize = (8,5))\n",
    "plt.grid(True)\n",
    "plt.gca().set_ylim(0,1)\n",
    "plt.show()"
   ]
  },
  {
   "cell_type": "markdown",
   "id": "1765d46b",
   "metadata": {},
   "source": [
    "### evaluating performance and predicting"
   ]
  },
  {
   "cell_type": "code",
   "execution_count": 85,
   "id": "a527f153",
   "metadata": {},
   "outputs": [
    {
     "name": "stdout",
     "output_type": "stream",
     "text": [
      "219/219 [==============================] - 0s 1ms/step - loss: 0.6717 - accuracy: 0.8646\n"
     ]
    },
    {
     "data": {
      "text/plain": [
       "[0.6716984510421753, 0.8645714521408081]"
      ]
     },
     "execution_count": 85,
     "metadata": {},
     "output_type": "execute_result"
    }
   ],
   "source": [
    "model.evaluate(X_test,y_test)\n",
    "# first = loss(0,3604) , second value = accuracy(0.8873)"
   ]
  },
  {
   "cell_type": "code",
   "execution_count": 89,
   "id": "d261040f",
   "metadata": {},
   "outputs": [],
   "source": [
    "x_new = X_test_shaped[:] # considering first three samples from test dataset"
   ]
  },
  {
   "cell_type": "code",
   "execution_count": 90,
   "id": "1369ffaa",
   "metadata": {},
   "outputs": [
    {
     "name": "stdout",
     "output_type": "stream",
     "text": [
      "219/219 [==============================] - 0s 1ms/step\n"
     ]
    },
    {
     "data": {
      "text/plain": [
       "array([[0.84, 0.  , 0.01, ..., 0.  , 0.  , 0.  ],\n",
       "       [0.  , 1.  , 0.  , ..., 0.  , 0.  , 0.  ],\n",
       "       [0.  , 0.  , 0.  , ..., 0.  , 1.  , 0.  ],\n",
       "       ...,\n",
       "       [0.  , 0.  , 0.  , ..., 0.  , 0.  , 0.  ],\n",
       "       [0.  , 0.  , 0.  , ..., 1.  , 0.  , 0.  ],\n",
       "       [0.  , 0.  , 0.92, ..., 0.  , 0.01, 0.  ]], dtype=float32)"
      ]
     },
     "execution_count": 90,
     "metadata": {},
     "output_type": "execute_result"
    }
   ],
   "source": [
    "y_proba = model.predict(x_new) # probability to each class\n",
    "y_proba.round(2) "
   ]
  },
  {
   "cell_type": "code",
   "execution_count": 91,
   "id": "f9571505",
   "metadata": {},
   "outputs": [
    {
     "ename": "AttributeError",
     "evalue": "'Sequential' object has no attribute 'predict_classes'",
     "output_type": "error",
     "traceback": [
      "\u001b[1;31m---------------------------------------------------------------------------\u001b[0m",
      "\u001b[1;31mAttributeError\u001b[0m                            Traceback (most recent call last)",
      "Cell \u001b[1;32mIn[91], line 1\u001b[0m\n\u001b[1;32m----> 1\u001b[0m y_pred \u001b[38;5;241m=\u001b[39m \u001b[43mmodel\u001b[49m\u001b[38;5;241;43m.\u001b[39;49m\u001b[43mpredict_classes\u001b[49m(x_new)\n\u001b[0;32m      2\u001b[0m y_pred\n\u001b[0;32m      3\u001b[0m \u001b[38;5;66;03m# as category starts from 0 to 9\u001b[39;00m\n\u001b[0;32m      4\u001b[0m \u001b[38;5;66;03m# for first record category = 9 which can be confirmed by above probabilities\u001b[39;00m\n\u001b[0;32m      5\u001b[0m \u001b[38;5;66;03m# category of second sample = 2\u001b[39;00m\n\u001b[0;32m      6\u001b[0m \u001b[38;5;66;03m# category of third sample = 1\u001b[39;00m\n",
      "\u001b[1;31mAttributeError\u001b[0m: 'Sequential' object has no attribute 'predict_classes'"
     ]
    }
   ],
   "source": [
    "y_pred = model.predict_classes(x_new)\n",
    "y_pred\n",
    "# as category starts from 0 to 9\n",
    "# for first record category = 9 which can be confirmed by above probabilities\n",
    "# category of second sample = 2\n",
    "# category of third sample = 1"
   ]
  },
  {
   "cell_type": "code",
   "execution_count": null,
   "id": "4302569d",
   "metadata": {},
   "outputs": [],
   "source": [
    "pred_names = np.array(class_names)[y_pred]\n",
    "pred_names"
   ]
  },
  {
   "cell_type": "code",
   "execution_count": null,
   "id": "6e02003d",
   "metadata": {},
   "outputs": [],
   "source": [
    "print(plt.imshow(X_test[20]))\n",
    "print(plt.imshow(X_test[20]),pred_names[20])"
   ]
  },
  {
   "cell_type": "code",
   "execution_count": null,
   "id": "853ec1e1",
   "metadata": {},
   "outputs": [],
   "source": [
    "print(plt.imshow(X_test[2000]))\n"
   ]
  },
  {
   "cell_type": "code",
   "execution_count": null,
   "id": "ff4004ab",
   "metadata": {},
   "outputs": [],
   "source": [
    "print(plt.imshow(X_test[525]))\n"
   ]
  },
  {
   "cell_type": "code",
   "execution_count": null,
   "id": "7e31bc43",
   "metadata": {},
   "outputs": [],
   "source": []
  }
 ],
 "metadata": {
  "interpreter": {
   "hash": "e8446a84462e6194ca1a866efc9c22d3286fe5985d229b8f6a8c76f6fd8d9795"
  },
  "kernelspec": {
   "display_name": "Python 3 (ipykernel)",
   "language": "python",
   "name": "python3"
  },
  "language_info": {
   "codemirror_mode": {
    "name": "ipython",
    "version": 3
   },
   "file_extension": ".py",
   "mimetype": "text/x-python",
   "name": "python",
   "nbconvert_exporter": "python",
   "pygments_lexer": "ipython3",
   "version": "3.9.11"
  }
 },
 "nbformat": 4,
 "nbformat_minor": 5
}
